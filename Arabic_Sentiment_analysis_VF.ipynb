{
 "cells": [
  {
   "cell_type": "markdown",
   "metadata": {
    "id": "46AllxC7E2hK"
   },
   "source": [
    "# Sentiment Analysis Classification in Darija\n"
   ]
  },
  {
   "cell_type": "markdown",
   "metadata": {
    "id": "ef81e52a"
   },
   "source": [
    "#### <font> Réalisé par: BOUYAKHSAINE Khadija "
   ]
  },
  {
   "cell_type": "markdown",
   "metadata": {},
   "source": [
    "Généralement  l’analyse de sentiment peut être appliqué à n’importe quelle industrie et à la technologie pour comprendre les opinions des clients afin d’améliorer les services de l’entreprise.\n",
    "\n",
    "Dans notre cas l’objectif est d’analyser les sentiments des avis des publié dans les réseaux sociaux, en dialectique arabe en utilisant  un jeu de données contient des commentaires en dialectique arabe marocaine pendant le confinement covide 19, principalement il contient deux colonnes :   comment  et label\n"
   ]
  },
  {
   "cell_type": "markdown",
   "metadata": {
    "id": "MA5607R9jU3a"
   },
   "source": [
    "## Dataset"
   ]
  },
  {
   "cell_type": "code",
   "execution_count": 64,
   "metadata": {
    "colab": {
     "base_uri": "https://localhost:8080/",
     "height": 206
    },
    "id": "kg1IUmVByw_u",
    "outputId": "fdaf5359-e4ba-4b13-d373-2cf059254552"
   },
   "outputs": [
    {
     "data": {
      "text/html": [
       "<div>\n",
       "<style scoped>\n",
       "    .dataframe tbody tr th:only-of-type {\n",
       "        vertical-align: middle;\n",
       "    }\n",
       "\n",
       "    .dataframe tbody tr th {\n",
       "        vertical-align: top;\n",
       "    }\n",
       "\n",
       "    .dataframe thead th {\n",
       "        text-align: right;\n",
       "    }\n",
       "</style>\n",
       "<table border=\"1\" class=\"dataframe\">\n",
       "  <thead>\n",
       "    <tr style=\"text-align: right;\">\n",
       "      <th></th>\n",
       "      <th>comment</th>\n",
       "      <th>label</th>\n",
       "    </tr>\n",
       "  </thead>\n",
       "  <tbody>\n",
       "    <tr>\n",
       "      <th>0</th>\n",
       "      <td>العتماني عندو اللباقة و الجدال بالغة سد فمك</td>\n",
       "      <td>0</td>\n",
       "    </tr>\n",
       "    <tr>\n",
       "      <th>1</th>\n",
       "      <td>إن كتب لنا الموت بهذا الفيروس فذاك يبقى قضاء و...</td>\n",
       "      <td>0</td>\n",
       "    </tr>\n",
       "    <tr>\n",
       "      <th>2</th>\n",
       "      <td>خوتي الله ينجيكم من هاد الفيروس الخبيث يا رب ا...</td>\n",
       "      <td>0</td>\n",
       "    </tr>\n",
       "    <tr>\n",
       "      <th>3</th>\n",
       "      <td>الحمد لله على أن ڤيروس كورونا لا يعيش في ما فو...</td>\n",
       "      <td>0</td>\n",
       "    </tr>\n",
       "    <tr>\n",
       "      <th>4</th>\n",
       "      <td>و بخصوص الكمامات فهو على صواب الكمامة تحمي فقط...</td>\n",
       "      <td>0</td>\n",
       "    </tr>\n",
       "    <tr>\n",
       "      <th>...</th>\n",
       "      <td>...</td>\n",
       "      <td>...</td>\n",
       "    </tr>\n",
       "    <tr>\n",
       "      <th>4332</th>\n",
       "      <td>هاد الصداع كامل السبب ديالوا كروش الحرام اللي ...</td>\n",
       "      <td>1</td>\n",
       "    </tr>\n",
       "    <tr>\n",
       "      <th>4333</th>\n",
       "      <td>هادشي بزاف ياك حبستونا شهرين بلا خدمة مرض كيتص...</td>\n",
       "      <td>1</td>\n",
       "    </tr>\n",
       "    <tr>\n",
       "      <th>4334</th>\n",
       "      <td>واحد التمساح عدنا ماعندوا نفس</td>\n",
       "      <td>1</td>\n",
       "    </tr>\n",
       "    <tr>\n",
       "      <th>4335</th>\n",
       "      <td>وكلنا عليهم الله هاد المصانع غادي يخليونا فديو...</td>\n",
       "      <td>1</td>\n",
       "    </tr>\n",
       "    <tr>\n",
       "      <th>4336</th>\n",
       "      <td>واش هذا ديال دابا ؟؟؟؟؟؟</td>\n",
       "      <td>0</td>\n",
       "    </tr>\n",
       "  </tbody>\n",
       "</table>\n",
       "<p>4337 rows × 2 columns</p>\n",
       "</div>"
      ],
      "text/plain": [
       "                                                comment  label\n",
       "0           العتماني عندو اللباقة و الجدال بالغة سد فمك      0\n",
       "1     إن كتب لنا الموت بهذا الفيروس فذاك يبقى قضاء و...      0\n",
       "2     خوتي الله ينجيكم من هاد الفيروس الخبيث يا رب ا...      0\n",
       "3     الحمد لله على أن ڤيروس كورونا لا يعيش في ما فو...      0\n",
       "4     و بخصوص الكمامات فهو على صواب الكمامة تحمي فقط...      0\n",
       "...                                                 ...    ...\n",
       "4332  هاد الصداع كامل السبب ديالوا كروش الحرام اللي ...      1\n",
       "4333  هادشي بزاف ياك حبستونا شهرين بلا خدمة مرض كيتص...      1\n",
       "4334                      واحد التمساح عدنا ماعندوا نفس      1\n",
       "4335  وكلنا عليهم الله هاد المصانع غادي يخليونا فديو...      1\n",
       "4336                           واش هذا ديال دابا ؟؟؟؟؟؟      0\n",
       "\n",
       "[4337 rows x 2 columns]"
      ]
     },
     "execution_count": 64,
     "metadata": {},
     "output_type": "execute_result"
    }
   ],
   "source": [
    "import  numpy as np\n",
    "import pandas as pd\n",
    "\n",
    "train = pd.read_excel(\"Final_Data.xlsx\" )\n",
    "train"
   ]
  },
  {
   "cell_type": "code",
   "execution_count": 2,
   "metadata": {
    "id": "-WYy5ikAs7l3"
   },
   "outputs": [],
   "source": [
    "DATA_COLUMN = \"comment\"\n",
    "LABEL_COLUMN = \"label\""
   ]
  },
  {
   "cell_type": "code",
   "execution_count": 3,
   "metadata": {
    "colab": {
     "base_uri": "https://localhost:8080/",
     "height": 424
    },
    "id": "beSl29tdrDYW",
    "outputId": "4e955819-e952-4973-f1c5-5c2395be452d"
   },
   "outputs": [
    {
     "name": "stdout",
     "output_type": "stream",
     "text": [
      "1    2899\n",
      "0    1438\n",
      "Name: label, dtype: int64\n"
     ]
    }
   ],
   "source": [
    "df_MSAC = pd.DataFrame(train, columns=[\"comment\", LABEL_COLUMN])\n",
    "print(df_MSAC[\"label\"].value_counts())"
   ]
  },
  {
   "cell_type": "code",
   "execution_count": 4,
   "metadata": {
    "colab": {
     "base_uri": "https://localhost:8080/",
     "height": 35
    },
    "id": "-vm_d0jEEQ55",
    "outputId": "a8e06340-071f-4229-fa20-da7c635c41d9"
   },
   "outputs": [
    {
     "data": {
      "text/plain": [
       "'Asi hotman positive dima 😂'"
      ]
     },
     "execution_count": 4,
     "metadata": {},
     "output_type": "execute_result"
    }
   ],
   "source": [
    "df_MSAC[\"comment\"][225]"
   ]
  },
  {
   "cell_type": "markdown",
   "metadata": {
    "id": "Cda2sbvtEQ58"
   },
   "source": [
    "## Pretraitement"
   ]
  },
  {
   "cell_type": "markdown",
   "metadata": {
    "id": "QWYXBGtPEQ5-"
   },
   "source": [
    "#### Transformation Aransia en dialectique : \n",
    "\n",
    "Translittérer d’une langue ou d’un dialecte è un autre :    Nous avons utilisé le module Aaransia pour transformer les commentaires de la langue francais en langue  dialectique arabe \n"
   ]
  },
  {
   "cell_type": "code",
   "execution_count": 5,
   "metadata": {
    "colab": {
     "base_uri": "https://localhost:8080/"
    },
    "id": "_1TSMHP5EQ5_",
    "outputId": "b20b92bd-0e8f-4ea6-9826-791ef61f3723"
   },
   "outputs": [],
   "source": [
    "from aaransia import transliterate, SourceLanguageError\n",
    "import warnings\n",
    "warnings.simplefilter('ignore')\n",
    "for i in range(len(df_MSAC)):\n",
    "    row=df_MSAC.iloc[i][\"comment\"]\n",
    "    row=transliterate(row, source='ma', target='ar', universal=True)\n",
    "    df_MSAC.loc[:,\"comment\"][i]=row"
   ]
  },
  {
   "cell_type": "code",
   "execution_count": 6,
   "metadata": {
    "colab": {
     "base_uri": "https://localhost:8080/",
     "height": 35
    },
    "id": "AogXamxQEQ6B",
    "outputId": "35f07d3e-ef39-4dd3-8589-b30130d4b8e1"
   },
   "outputs": [
    {
     "data": {
      "text/plain": [
       "'اسي هوتمان پوسيتيڤ ديما 😂'"
      ]
     },
     "execution_count": 6,
     "metadata": {},
     "output_type": "execute_result"
    }
   ],
   "source": [
    "df_MSAC[\"comment\"][225]"
   ]
  },
  {
   "cell_type": "markdown",
   "metadata": {
    "id": "GI-EpmFLEQ6D"
   },
   "source": [
    "### Normalisation"
   ]
  },
  {
   "cell_type": "code",
   "execution_count": 7,
   "metadata": {
    "id": "a6Mg1NLgEQ6E"
   },
   "outputs": [],
   "source": [
    "#Normalize_the_text:\n",
    "def normalize_arabic(text):\n",
    "    text = re.sub(\"[إأآا]\", \"ا\", text)\n",
    "    text = re.sub(\"ى\", \"ي\", text)\n",
    "    text = re.sub(\"ؤ\", \"ء\", text)\n",
    "    text = re.sub(\"ئ\", \"ء\", text)\n",
    "    text = re.sub(\"ة\", \"ه\", text)\n",
    "    text = re.sub(\"گ\", \"ك\", text)\n",
    "    return text"
   ]
  },
  {
   "cell_type": "code",
   "execution_count": 8,
   "metadata": {
    "id": "8SFUgt0VEQ6F"
   },
   "outputs": [],
   "source": [
    "import re\n",
    "sentences = [normalize_arabic(text) for text in df_MSAC['comment'] ]\n",
    "df_MSAC['comment']=sentences"
   ]
  },
  {
   "cell_type": "markdown",
   "metadata": {
    "id": "yDqT3BbTEQ6H"
   },
   "source": [
    "### Nettoyage des données\n",
    "Dans la phase de nettoyage de données nous avons effectué  de nombreux traitements sur notre jeu de données à savoir :\n",
    "\n",
    "•La suppression de la ponctuation\n",
    "\n",
    "•La suppression des chiffres \n",
    "\n",
    "•La suppression des stop words\n",
    "\n",
    "Pour la suppression des chiffres et de  ponctuation nous avons exploité  le module **re** qui permet d'utiliser des expressions régulières."
   ]
  },
  {
   "cell_type": "code",
   "execution_count": 9,
   "metadata": {
    "colab": {
     "base_uri": "https://localhost:8080/",
     "height": 35
    },
    "id": "PpHbF5nIVz8L",
    "outputId": "eecca75e-24e3-407e-c219-1aaa6bb62e3d"
   },
   "outputs": [
    {
     "data": {
      "text/plain": [
       "' الشفافيه و الثقه  لا بد ان تكون الثقه'"
      ]
     },
     "execution_count": 9,
     "metadata": {},
     "output_type": "execute_result"
    }
   ],
   "source": [
    "import re\n",
    "df_MSAC['comment'] = df_MSAC['comment'].str.replace('\\d+', ' ')\n",
    "\n",
    "df_MSAC['comment'] = df_MSAC['comment'].str.replace('\\n', ' ')\n",
    "df_MSAC['comment'] = df_MSAC['comment'].str.replace('/', ' ')\n",
    "#removes punctuation\n",
    "df_MSAC['comment']= [re.sub(r'[^\\w\\s]','',s) for s in df_MSAC['comment']] \n",
    "df_MSAC['comment'][12]"
   ]
  },
  {
   "cell_type": "markdown",
   "metadata": {
    "id": "j00xrry-EQ6N"
   },
   "source": [
    "### Stop word"
   ]
  },
  {
   "cell_type": "markdown",
   "metadata": {},
   "source": [
    "Les Stop words ou bien  les mots vides sont les mots couramment utilisés qui sont généralement ignorés par le moteur de recherche, tels que the, اللذين, إن, etc. Ces mots sont supprimés pour économiser de l’espace dans la base de données et le temps de traitement, c’est pour cette raison qu’on va essayer dans l’étape suivante d’utiliser le package ntlk pour supprimer ces mots vides.\n",
    "\n",
    "Le package **stop-words** est utilisé pour supprimer les mots vides du texte en Python. Ce paquet contient des mots vides dans de nombreuses langues comme l’anglais, l’Arabe, le français, l’espagnol et plus encore.\n"
   ]
  },
  {
   "cell_type": "code",
   "execution_count": 10,
   "metadata": {
    "id": "TLQq8BdQWiPQ"
   },
   "outputs": [],
   "source": [
    "##Common Words"
   ]
  },
  {
   "cell_type": "code",
   "execution_count": 11,
   "metadata": {
    "id": "CZE_Qaa2EQ6O"
   },
   "outputs": [],
   "source": [
    "# import necessary libraries\n",
    "from nltk.corpus import stopwords"
   ]
  },
  {
   "cell_type": "code",
   "execution_count": 12,
   "metadata": {
    "colab": {
     "base_uri": "https://localhost:8080/"
    },
    "id": "pFIwo9pEF9OX",
    "outputId": "cc6bc48e-bb5a-4037-8a6c-714f93a1a2a9"
   },
   "outputs": [
    {
     "name": "stderr",
     "output_type": "stream",
     "text": [
      "[nltk_data] Downloading package stopwords to\n",
      "[nltk_data]     C:\\Users\\Dell\\AppData\\Roaming\\nltk_data...\n",
      "[nltk_data]   Package stopwords is already up-to-date!\n"
     ]
    },
    {
     "data": {
      "text/plain": [
       "True"
      ]
     },
     "execution_count": 12,
     "metadata": {},
     "output_type": "execute_result"
    }
   ],
   "source": [
    "import nltk\n",
    "nltk.download('stopwords')"
   ]
  },
  {
   "cell_type": "code",
   "execution_count": 13,
   "metadata": {
    "colab": {
     "base_uri": "https://localhost:8080/"
    },
    "id": "ErDP5BEuEQ6P",
    "outputId": "442ec163-2594-4384-d167-70a68b454c26"
   },
   "outputs": [
    {
     "name": "stdout",
     "output_type": "stream",
     "text": [
      "['إذ', 'إذا', 'إذما', 'إذن', 'أف', 'أقل', 'أكثر', 'ألا', 'إلا', 'التي', 'الذي', 'الذين', 'اللاتي', 'اللائي', 'اللتان', 'اللتيا', 'اللتين', 'اللذان', 'اللذين', 'اللواتي', 'إلى', 'إليك', 'إليكم', 'إليكما', 'إليكن', 'أم', 'أما', 'أما', 'إما', 'أن', 'إن', 'إنا', 'أنا', 'أنت', 'أنتم', 'أنتما', 'أنتن', 'إنما', 'إنه', 'أنى', 'أنى', 'آه', 'آها', 'أو', 'أولاء', 'أولئك', 'أوه', 'آي', 'أي', 'أيها', 'إي', 'أين', 'أين', 'أينما', 'إيه', 'بخ', 'بس', 'بعد', 'بعض', 'بك', 'بكم', 'بكم', 'بكما', 'بكن', 'بل', 'بلى', 'بما', 'بماذا', 'بمن', 'بنا', 'به', 'بها', 'بهم', 'بهما', 'بهن', 'بي', 'بين', 'بيد', 'تلك', 'تلكم', 'تلكما', 'ته', 'تي', 'تين', 'تينك', 'ثم', 'ثمة', 'حاشا', 'حبذا', 'حتى', 'حيث', 'حيثما', 'حين', 'خلا', 'دون', 'ذا', 'ذات', 'ذاك', 'ذان', 'ذانك', 'ذلك', 'ذلكم', 'ذلكما', 'ذلكن', 'ذه', 'ذو', 'ذوا', 'ذواتا', 'ذواتي', 'ذي', 'ذين', 'ذينك', 'ريث', 'سوف', 'سوى', 'شتان', 'عدا', 'عسى', 'عل', 'على', 'عليك', 'عليه', 'عما', 'عن', 'عند', 'غير', 'فإذا', 'فإن', 'فلا', 'فمن', 'في', 'فيم', 'فيما', 'فيه', 'فيها', 'قد', 'كأن', 'كأنما', 'كأي', 'كأين', 'كذا', 'كذلك', 'كل', 'كلا', 'كلاهما', 'كلتا', 'كلما', 'كليكما', 'كليهما', 'كم', 'كم', 'كما', 'كي', 'كيت', 'كيف', 'كيفما', 'لا', 'لاسيما', 'لدى', 'لست', 'لستم', 'لستما', 'لستن', 'لسن', 'لسنا', 'لعل', 'لك', 'لكم', 'لكما', 'لكن', 'لكنما', 'لكي', 'لكيلا', 'لم', 'لما', 'لن', 'لنا', 'له', 'لها', 'لهم', 'لهما', 'لهن', 'لو', 'لولا', 'لوما', 'لي', 'لئن', 'ليت', 'ليس', 'ليسا', 'ليست', 'ليستا', 'ليسوا', 'ما', 'ماذا', 'متى', 'مذ', 'مع', 'مما', 'ممن', 'من', 'منه', 'منها', 'منذ', 'مه', 'مهما', 'نحن', 'نحو', 'نعم', 'ها', 'هاتان', 'هاته', 'هاتي', 'هاتين', 'هاك', 'هاهنا', 'هذا', 'هذان', 'هذه', 'هذي', 'هذين', 'هكذا', 'هل', 'هلا', 'هم', 'هما', 'هن', 'هنا', 'هناك', 'هنالك', 'هو', 'هؤلاء', 'هي', 'هيا', 'هيت', 'هيهات', 'والذي', 'والذين', 'وإذ', 'وإذا', 'وإن', 'ولا', 'ولكن', 'ولو', 'وما', 'ومن', 'وهو', 'يا', 'أبٌ', 'أخٌ', 'حمٌ', 'فو', 'أنتِ', 'يناير', 'فبراير', 'مارس', 'أبريل', 'مايو', 'يونيو', 'يوليو', 'أغسطس', 'سبتمبر', 'أكتوبر', 'نوفمبر', 'ديسمبر', 'جانفي', 'فيفري', 'مارس', 'أفريل', 'ماي', 'جوان', 'جويلية', 'أوت', 'كانون', 'شباط', 'آذار', 'نيسان', 'أيار', 'حزيران', 'تموز', 'آب', 'أيلول', 'تشرين', 'دولار', 'دينار', 'ريال', 'درهم', 'ليرة', 'جنيه', 'قرش', 'مليم', 'فلس', 'هللة', 'سنتيم', 'يورو', 'ين', 'يوان', 'شيكل', 'واحد', 'اثنان', 'ثلاثة', 'أربعة', 'خمسة', 'ستة', 'سبعة', 'ثمانية', 'تسعة', 'عشرة', 'أحد', 'اثنا', 'اثني', 'إحدى', 'ثلاث', 'أربع', 'خمس', 'ست', 'سبع', 'ثماني', 'تسع', 'عشر', 'ثمان', 'سبت', 'أحد', 'اثنين', 'ثلاثاء', 'أربعاء', 'خميس', 'جمعة', 'أول', 'ثان', 'ثاني', 'ثالث', 'رابع', 'خامس', 'سادس', 'سابع', 'ثامن', 'تاسع', 'عاشر', 'حادي', 'أ', 'ب', 'ت', 'ث', 'ج', 'ح', 'خ', 'د', 'ذ', 'ر', 'ز', 'س', 'ش', 'ص', 'ض', 'ط', 'ظ', 'ع', 'غ', 'ف', 'ق', 'ك', 'ل', 'م', 'ن', 'ه', 'و', 'ي', 'ء', 'ى', 'آ', 'ؤ', 'ئ', 'أ', 'ة', 'ألف', 'باء', 'تاء', 'ثاء', 'جيم', 'حاء', 'خاء', 'دال', 'ذال', 'راء', 'زاي', 'سين', 'شين', 'صاد', 'ضاد', 'طاء', 'ظاء', 'عين', 'غين', 'فاء', 'قاف', 'كاف', 'لام', 'ميم', 'نون', 'هاء', 'واو', 'ياء', 'همزة', 'ي', 'نا', 'ك', 'كن', 'ه', 'إياه', 'إياها', 'إياهما', 'إياهم', 'إياهن', 'إياك', 'إياكما', 'إياكم', 'إياك', 'إياكن', 'إياي', 'إيانا', 'أولالك', 'تانِ', 'تانِك', 'تِه', 'تِي', 'تَيْنِ', 'ثمّ', 'ثمّة', 'ذانِ', 'ذِه', 'ذِي', 'ذَيْنِ', 'هَؤلاء', 'هَاتانِ', 'هَاتِه', 'هَاتِي', 'هَاتَيْنِ', 'هَذا', 'هَذانِ', 'هَذِه', 'هَذِي', 'هَذَيْنِ', 'الألى', 'الألاء', 'أل', 'أنّى', 'أيّ', 'ّأيّان', 'أنّى', 'أيّ', 'ّأيّان', 'ذيت', 'كأيّ', 'كأيّن', 'بضع', 'فلان', 'وا', 'آمينَ', 'آهِ', 'آهٍ', 'آهاً', 'أُفٍّ', 'أُفٍّ', 'أفٍّ', 'أمامك', 'أمامكَ', 'أوّهْ', 'إلَيْكَ', 'إلَيْكَ', 'إليكَ', 'إليكنّ', 'إيهٍ', 'بخٍ', 'بسّ', 'بَسْ', 'بطآن', 'بَلْهَ', 'حاي', 'حَذارِ', 'حيَّ', 'حيَّ', 'دونك', 'رويدك', 'سرعان', 'شتانَ', 'شَتَّانَ', 'صهْ', 'صهٍ', 'طاق', 'طَق', 'عَدَسْ', 'كِخ', 'مكانَك', 'مكانَك', 'مكانَك', 'مكانكم', 'مكانكما', 'مكانكنّ', 'نَخْ', 'هاكَ', 'هَجْ', 'هلم', 'هيّا', 'هَيْهات', 'وا', 'واهاً', 'وراءَك', 'وُشْكَانَ', 'وَيْ', 'يفعلان', 'تفعلان', 'يفعلون', 'تفعلون', 'تفعلين', 'اتخذ', 'ألفى', 'تخذ', 'ترك', 'تعلَّم', 'جعل', 'حجا', 'حبيب', 'خال', 'حسب', 'خال', 'درى', 'رأى', 'زعم', 'صبر', 'ظنَّ', 'عدَّ', 'علم', 'غادر', 'ذهب', 'وجد', 'ورد', 'وهب', 'أسكن', 'أطعم', 'أعطى', 'رزق', 'زود', 'سقى', 'كسا', 'أخبر', 'أرى', 'أعلم', 'أنبأ', 'حدَث', 'خبَّر', 'نبَّا', 'أفعل به', 'ما أفعله', 'بئس', 'ساء', 'طالما', 'قلما', 'لات', 'لكنَّ', 'ءَ', 'أجل', 'إذاً', 'أمّا', 'إمّا', 'إنَّ', 'أنًّ', 'أى', 'إى', 'أيا', 'ب', 'ثمَّ', 'جلل', 'جير', 'رُبَّ', 'س', 'علًّ', 'ف', 'كأنّ', 'كلَّا', 'كى', 'ل', 'لات', 'لعلَّ', 'لكنَّ', 'لكنَّ', 'م', 'نَّ', 'هلّا', 'وا', 'أل', 'إلّا', 'ت', 'ك', 'لمّا', 'ن', 'ه', 'و', 'ا', 'ي', 'تجاه', 'تلقاء', 'جميع', 'حسب', 'سبحان', 'شبه', 'لعمر', 'مثل', 'معاذ', 'أبو', 'أخو', 'حمو', 'فو', 'مئة', 'مئتان', 'ثلاثمئة', 'أربعمئة', 'خمسمئة', 'ستمئة', 'سبعمئة', 'ثمنمئة', 'تسعمئة', 'مائة', 'ثلاثمائة', 'أربعمائة', 'خمسمائة', 'ستمائة', 'سبعمائة', 'ثمانمئة', 'تسعمائة', 'عشرون', 'ثلاثون', 'اربعون', 'خمسون', 'ستون', 'سبعون', 'ثمانون', 'تسعون', 'عشرين', 'ثلاثين', 'اربعين', 'خمسين', 'ستين', 'سبعين', 'ثمانين', 'تسعين', 'بضع', 'نيف', 'أجمع', 'جميع', 'عامة', 'عين', 'نفس', 'لا سيما', 'أصلا', 'أهلا', 'أيضا', 'بؤسا', 'بعدا', 'بغتة', 'تعسا', 'حقا', 'حمدا', 'خلافا', 'خاصة', 'دواليك', 'سحقا', 'سرا', 'سمعا', 'صبرا', 'صدقا', 'صراحة', 'طرا', 'عجبا', 'عيانا', 'غالبا', 'فرادى', 'فضلا', 'قاطبة', 'كثيرا', 'لبيك', 'معاذ', 'أبدا', 'إزاء', 'أصلا', 'الآن', 'أمد', 'أمس', 'آنفا', 'آناء', 'أنّى', 'أول', 'أيّان', 'تارة', 'ثمّ', 'ثمّة', 'حقا', 'صباح', 'مساء', 'ضحوة', 'عوض', 'غدا', 'غداة', 'قطّ', 'كلّما', 'لدن', 'لمّا', 'مرّة', 'قبل', 'خلف', 'أمام', 'فوق', 'تحت', 'يمين', 'شمال', 'ارتدّ', 'استحال', 'أصبح', 'أضحى', 'آض', 'أمسى', 'انقلب', 'بات', 'تبدّل', 'تحوّل', 'حار', 'رجع', 'راح', 'صار', 'ظلّ', 'عاد', 'غدا', 'كان', 'ما انفك', 'ما برح', 'مادام', 'مازال', 'مافتئ', 'ابتدأ', 'أخذ', 'اخلولق', 'أقبل', 'انبرى', 'أنشأ', 'أوشك', 'جعل', 'حرى', 'شرع', 'طفق', 'علق', 'قام', 'كرب', 'كاد', 'هبّ']\n"
     ]
    }
   ],
   "source": [
    "print(stopwords.words('arabic'))"
   ]
  },
  {
   "cell_type": "code",
   "execution_count": 14,
   "metadata": {
    "colab": {
     "base_uri": "https://localhost:8080/",
     "height": 35
    },
    "id": "CoP2h2wrEQ6Q",
    "outputId": "3ef16a47-d160-464e-d901-53c98c1c6bba"
   },
   "outputs": [
    {
     "data": {
      "text/plain": [
       "' الشفافيه و الثقه  لا بد ان تكون الثقه'"
      ]
     },
     "execution_count": 14,
     "metadata": {},
     "output_type": "execute_result"
    }
   ],
   "source": [
    "df_MSAC['comment'][12]"
   ]
  },
  {
   "cell_type": "code",
   "execution_count": 15,
   "metadata": {
    "id": "f7ecTcXBEQ6R"
   },
   "outputs": [],
   "source": [
    "import nltk\n",
    "stopwords = list(set(nltk.corpus.stopwords.words('arabic')))\n",
    "df_MSAC[\"comment\"] = df_MSAC[\"comment\"].apply(lambda x: ' '.join([word for word in x.split() if word not in (stopwords)]))"
   ]
  },
  {
   "cell_type": "markdown",
   "metadata": {
    "id": "mXJkYriNEQ6S"
   },
   "source": [
    "## Stemming"
   ]
  },
  {
   "cell_type": "markdown",
   "metadata": {},
   "source": [
    "La méthode  stemming est le processus de suppression d'une partie d'un mot ou de réduction d'un mot à sa racine pour avoir des données utiles pour l’analyse des sentiments.\n",
    "Dans notre cas nous avons utilisé dans la partie de stemming , Tashaphyne qui est un stemmer et un segmenteur de lumière arabe. Il supporte principalement le stemming léger (en supprimant les préfixes et les suffixes) et donne toutes les segmentations possibles. Il utilise un automate à états finis modifié qui permet de générer toutes les segmentations\n"
   ]
  },
  {
   "cell_type": "code",
   "execution_count": 16,
   "metadata": {
    "colab": {
     "base_uri": "https://localhost:8080/"
    },
    "id": "cEY91Q5QGLwq",
    "outputId": "87f4de82-1446-42f3-dc5b-a4b806a2ee45"
   },
   "outputs": [
    {
     "name": "stdout",
     "output_type": "stream",
     "text": [
      "Requirement already satisfied: tashaphyne in c:\\users\\dell\\anaconda3\\lib\\site-packages (0.3.4.1)\n",
      "Requirement already satisfied: pyarabic in c:\\users\\dell\\anaconda3\\lib\\site-packages (from tashaphyne) (0.6.14)\n",
      "Requirement already satisfied: six>=1.14.0 in c:\\users\\dell\\anaconda3\\lib\\site-packages (from pyarabic->tashaphyne) (1.15.0)\n",
      "Note: you may need to restart the kernel to use updated packages.\n"
     ]
    }
   ],
   "source": [
    "pip install tashaphyne"
   ]
  },
  {
   "cell_type": "code",
   "execution_count": 17,
   "metadata": {
    "id": "VuiT5i3WEQ6S"
   },
   "outputs": [],
   "source": [
    "from tashaphyne.stemming import ArabicLightStemmer\n",
    "#Stemmer_LIGHT : Remove suffixes and affixes \n",
    "ArListem = ArabicLightStemmer()\n",
    "def stemmer_light(text):\n",
    "    text_words = []\n",
    "    words = text.split(\" \")\n",
    "    for c in words:\n",
    "        stem = ArListem.light_stem(c)\n",
    "        text_words.append(stem)\n",
    "    return ' '.join(text_words)\n",
    "\n",
    "#Root Stemming :  Transform the wrod into its root form\n",
    "def stemmer_root(text):\n",
    "    text_words = []\n",
    "    words = text.split(\" \")\n",
    "    for c in words:\n",
    "        stem = ArListem.light_stem(c)\n",
    "        text_words.append(stem)\n",
    "    return ' '.join(text_words)"
   ]
  },
  {
   "cell_type": "code",
   "execution_count": 18,
   "metadata": {
    "id": "BAfOaSKJEQ6T"
   },
   "outputs": [],
   "source": [
    "sentences = [stemmer_light(text) for text in df_MSAC['comment']]"
   ]
  },
  {
   "cell_type": "code",
   "execution_count": 19,
   "metadata": {
    "colab": {
     "base_uri": "https://localhost:8080/",
     "height": 35
    },
    "id": "TnAskETZEQ6U",
    "outputId": "4cef65fb-7241-4424-8fd7-8620e09e5cea"
   },
   "outputs": [
    {
     "data": {
      "text/plain": [
       "'شفافيه ثقه بد ان كو ثقه'"
      ]
     },
     "execution_count": 19,
     "metadata": {},
     "output_type": "execute_result"
    }
   ],
   "source": [
    "df_MSAC['comment']=sentences\n",
    "df_MSAC['comment'][12]"
   ]
  },
  {
   "cell_type": "code",
   "execution_count": 20,
   "metadata": {
    "id": "jE90uEKEWN7q"
   },
   "outputs": [],
   "source": [
    "#we need to create a document term matrix using CountVectorizer\n",
    "from sklearn.feature_extraction.text import CountVectorizer\n",
    "def get_top_n_words(corpus, n=None):\n",
    "\n",
    "    vec = CountVectorizer().fit(corpus)\n",
    "    bag_of_words = vec.transform(corpus)\n",
    "    sum_words = bag_of_words.sum(axis=0) \n",
    "    words_freq = [(word, sum_words[0, idx]) for word, idx in  vec.vocabulary_.items()]\n",
    "    words_freq =sorted(words_freq, key = lambda x: x[1], reverse=True)\n",
    "    return words_freq[:n]"
   ]
  },
  {
   "cell_type": "code",
   "execution_count": 21,
   "metadata": {
    "colab": {
     "base_uri": "https://localhost:8080/"
    },
    "id": "AZn_B25iWhSL",
    "outputId": "20439464-b04a-4bd1-fcfb-bc4988125073"
   },
   "outputs": [
    {
     "name": "stdout",
     "output_type": "stream",
     "text": [
      "[('له', 1358),\n",
      " ('عل', 1220),\n",
      " ('ان', 913),\n",
      " ('حال', 791),\n",
      " ('لا', 646),\n",
      " ('عد', 574),\n",
      " ('را', 571),\n",
      " ('ناس', 569),\n",
      " ('هاد', 501),\n",
      " ('اش', 473),\n",
      " ('حمد', 450),\n",
      " ('مغرب', 428),\n",
      " ('ديال', 398),\n",
      " ('صح', 381),\n",
      " ('حجر', 381),\n",
      " ('حت', 377),\n",
      " ('سب', 338),\n",
      " ('نا', 332),\n",
      " ('على', 320),\n",
      " ('مرض', 296)]\n"
     ]
    }
   ],
   "source": [
    "#We inspect the top word in a sample from our corpus without stemming the words\n",
    "from pprint import pprint\n",
    "topWords=get_top_n_words(df_MSAC['comment'],n=20)\n",
    "pprint(topWords)"
   ]
  },
  {
   "cell_type": "markdown",
   "metadata": {
    "id": "wfroMFLnX43j"
   },
   "source": [
    "## Word Cloud\n"
   ]
  },
  {
   "cell_type": "markdown",
   "metadata": {},
   "source": [
    "Nous avons généré ensuite les WordClouds (nuages de mots-clés en français) qui sont des outils utiles pour synthétiser les notions les plus importantes d’un texte, Plus un mot est présent dans le texte pris en considération, plus il apparaît en gros dans le wordcloud."
   ]
  },
  {
   "cell_type": "code",
   "execution_count": 22,
   "metadata": {
    "colab": {
     "base_uri": "https://localhost:8080/"
    },
    "id": "MRw40_21XxwM",
    "outputId": "b2bfa5cf-0453-4b6a-b0b8-6b47722bbc48"
   },
   "outputs": [
    {
     "name": "stdout",
     "output_type": "stream",
     "text": [
      "Requirement already up-to-date: arabic-reshaper in c:\\users\\dell\\anaconda3\\lib\\site-packages (2.1.3)\n",
      "Requirement already satisfied, skipping upgrade: setuptools in c:\\users\\dell\\anaconda3\\lib\\site-packages (from arabic-reshaper) (50.3.1.post20201107)\n",
      "Requirement already satisfied, skipping upgrade: future in c:\\users\\dell\\anaconda3\\lib\\site-packages (from arabic-reshaper) (0.18.2)\n",
      "Requirement already satisfied: python-bidi in c:\\users\\dell\\anaconda3\\lib\\site-packages (0.4.2)\n",
      "Requirement already satisfied: six in c:\\users\\dell\\anaconda3\\lib\\site-packages (from python-bidi) (1.15.0)\n"
     ]
    }
   ],
   "source": [
    "!pip install --upgrade arabic-reshaper\n",
    "!pip install python-bidi"
   ]
  },
  {
   "cell_type": "code",
   "execution_count": 23,
   "metadata": {
    "colab": {
     "base_uri": "https://localhost:8080/",
     "height": 198
    },
    "id": "zXHbTEwuYBCD",
    "outputId": "e50f70c2-28d8-49e6-cc34-546d0b301b94"
   },
   "outputs": [
    {
     "data": {
      "image/png": "[encoded data removed]",
      "text/plain": [
       "<Figure size 432x288 with 1 Axes>"
      ]
     },
     "metadata": {
      "needs_background": "light"
     },
     "output_type": "display_data"
    }
   ],
   "source": [
    "import nltk\n",
    "#nltk.download('stopwords')\n",
    "from bidi.algorithm import get_display\n",
    "import matplotlib.pyplot as plt\n",
    "import arabic_reshaper\n",
    "import os\n",
    "from wordcloud import WordCloud, STOPWORDS, ImageColorGenerator\n",
    "#stopwords= pd.read_excel(\"stop_words_Arabic.xlsx\")\n",
    "arab_stopwords = list(set(nltk.corpus.stopwords.words(\"arabic\")))\n",
    "sample_corpus=' '.join(df_MSAC['comment'])\n",
    "data = arabic_reshaper.reshape(sample_corpus)\n",
    "data = get_display(data) # add this  \n",
    "wordcloud = WordCloud(font_path = 'arial.ttf',stopwords = arab_stopwords, background_color = \"white\", max_font_size = 50, max_words = 100).generate(data)\n",
    "plt.imshow(wordcloud, interpolation='bilinear')\n",
    "plt.axis(\"off\")\n",
    "plt.show()"
   ]
  },
  {
   "cell_type": "markdown",
   "metadata": {
    "id": "UffTSw3RZOm9"
   },
   "source": []
  },
  {
   "cell_type": "markdown",
   "metadata": {
    "id": "MQ_eW3jHHG02"
   },
   "source": [
    "# Sentiment Analyis classifier"
   ]
  },
  {
   "cell_type": "markdown",
   "metadata": {
    "id": "TVay9KamnC3I"
   },
   "source": [
    "## Creating training dataset for the classifier\n"
   ]
  },
  {
   "cell_type": "code",
   "execution_count": 24,
   "metadata": {
    "id": "hr84ozGinCFh"
   },
   "outputs": [],
   "source": [
    "import pandas as pd\n",
    "import numpy as np\n",
    "\n",
    "from tqdm import tqdm_notebook as tqdm\n",
    "from sklearn.model_selection import train_test_split\n",
    "all_datasets= []"
   ]
  },
  {
   "cell_type": "code",
   "execution_count": 25,
   "metadata": {
    "colab": {
     "base_uri": "https://localhost:8080/"
    },
    "id": "yzZiHrnzqmIQ",
    "outputId": "27dfc380-3ab4-4f74-9eda-fa3b6dea4fda"
   },
   "outputs": [
    {
     "name": "stdout",
     "output_type": "stream",
     "text": [
      "1    2899\n",
      "0    1438\n",
      "Name: label, dtype: int64\n"
     ]
    }
   ],
   "source": [
    "print(df_MSAC[LABEL_COLUMN].value_counts())\n",
    "label_list_MSAC = list(df_MSAC[LABEL_COLUMN].unique())"
   ]
  },
  {
   "cell_type": "code",
   "execution_count": 26,
   "metadata": {
    "colab": {
     "base_uri": "https://localhost:8080/"
    },
    "id": "7msG_iQwvDQZ",
    "outputId": "a4501d6b-5241-43c5-f9d5-96fdc08019d9"
   },
   "outputs": [
    {
     "name": "stdout",
     "output_type": "stream",
     "text": [
      "Il y a 11031 mots différents dans notre corpus.\n"
     ]
    }
   ],
   "source": [
    "vectorizer = CountVectorizer()\n",
    "vectorizer.fit(df_MSAC[DATA_COLUMN])\n",
    "vocab_size = len(vectorizer.vocabulary_)\n",
    "print(f'Il y a {vocab_size} mots différents dans notre corpus.')"
   ]
  },
  {
   "cell_type": "code",
   "execution_count": null,
   "metadata": {
    "id": "nWUbq9nxLCeB"
   },
   "outputs": [],
   "source": []
  },
  {
   "cell_type": "markdown",
   "metadata": {
    "id": "c4f287b1"
   },
   "source": [
    "## Tokenization"
   ]
  },
  {
   "cell_type": "markdown",
   "metadata": {
    "id": "N75rh3UyxMPY"
   },
   "source": [
    "On fait le **Tokenization** qui est le processus de décomposition d'un  texte donné dans NLP en petite unité d'une phrase appelée jeton"
   ]
  },
  {
   "cell_type": "code",
   "execution_count": 27,
   "metadata": {
    "id": "a4a7898b"
   },
   "outputs": [],
   "source": [
    "from nltk.tokenize import word_tokenize\n",
    "tokenizedWords = []\n",
    "documents = []\n",
    "# chaque document contient tuple==> la liste de mot et categorie\n",
    "for i in df_MSAC.index:\n",
    "    sentiment =df_MSAC[\"label\"][i]\n",
    "    review = df_MSAC[\"comment\"][i]\n",
    "    tokenizedWord = word_tokenize(review)\n",
    "    document = [tokenizedWord, sentiment]\n",
    "    documents.append(document)"
   ]
  },
  {
   "cell_type": "markdown",
   "metadata": {
    "id": "cb0b46a4"
   },
   "source": [
    "chaque element de documents contient une liste=[contient tous les mots de document, son categorie ]\n"
   ]
  },
  {
   "cell_type": "code",
   "execution_count": 28,
   "metadata": {
    "colab": {
     "base_uri": "https://localhost:8080/"
    },
    "id": "b247099c",
    "outputId": "8552e61a-13f1-4b75-8c05-2a359e8f967f"
   },
   "outputs": [
    {
     "data": {
      "text/plain": [
       "4337"
      ]
     },
     "execution_count": 28,
     "metadata": {},
     "output_type": "execute_result"
    }
   ],
   "source": [
    "len(documents)"
   ]
  },
  {
   "cell_type": "code",
   "execution_count": 29,
   "metadata": {},
   "outputs": [
    {
     "data": {
      "text/plain": [
       "'خصوص كمام هو عل صواب كمامه حم قط مريض'"
      ]
     },
     "execution_count": 29,
     "metadata": {},
     "output_type": "execute_result"
    }
   ],
   "source": [
    "df_MSAC[\"comment\"][4]"
   ]
  },
  {
   "cell_type": "markdown",
   "metadata": {},
   "source": [
    "chaque élément de documents contient une liste qui contient tous les mots présents dans ce document et son catégorie (sentiment soit 0 ou bien 1) comme par exemple ce commentaire "
   ]
  },
  {
   "cell_type": "code",
   "execution_count": 30,
   "metadata": {},
   "outputs": [
    {
     "data": {
      "text/plain": [
       "[['خصوص', 'كمام', 'هو', 'عل', 'صواب', 'كمامه', 'حم', 'قط', 'مريض'], 0]"
      ]
     },
     "execution_count": 30,
     "metadata": {},
     "output_type": "execute_result"
    }
   ],
   "source": [
    "documents[4]"
   ]
  },
  {
   "cell_type": "markdown",
   "metadata": {
    "id": "c3e74eb9"
   },
   "source": [
    "### liste all word"
   ]
  },
  {
   "cell_type": "code",
   "execution_count": 31,
   "metadata": {
    "colab": {
     "base_uri": "https://localhost:8080/"
    },
    "id": "zzg2efQl7uTr",
    "outputId": "c587f77b-e721-4340-de19-349b4a5c9c7d"
   },
   "outputs": [
    {
     "name": "stdout",
     "output_type": "stream",
     "text": [
      "70336\n"
     ]
    }
   ],
   "source": [
    "listeall=[]\n",
    "for i in df_MSAC[\"comment\"]:\n",
    "    review = i\n",
    "    tokenizedWord = word_tokenize(review)\n",
    "    for j in tokenizedWord:\n",
    "        listeall.append(j)\n",
    "print(len(listeall))"
   ]
  },
  {
   "cell_type": "markdown",
   "metadata": {
    "id": "25db1158"
   },
   "source": [
    "- listeall est une liste qui contient tous les mots de tous les documents , qu'on va utiliser par la suite dans la partie de bag of word "
   ]
  },
  {
   "cell_type": "markdown",
   "metadata": {
    "id": "4af99bd4"
   },
   "source": [
    "### Bag of word"
   ]
  },
  {
   "cell_type": "markdown",
   "metadata": {},
   "source": [
    "le bag of word  qui est une représentation qui transforme un texte arbitraire en vecteurs de longueur fixe en comptant le nombre de fois où chaque mot apparaît. Ce processus est souvent appelé vectorisation. "
   ]
  },
  {
   "cell_type": "code",
   "execution_count": 32,
   "metadata": {
    "id": "At34-gC17755"
   },
   "outputs": [],
   "source": [
    "# Define the feature extractor\n",
    "# permet de calculer la frequence de chaque mot dans le documen\n",
    "all_words = nltk.FreqDist(w.lower() for w in listeall)\n",
    "word_features = list(all_words)[:2000]\n",
    "def document_features(document):\n",
    "    document_words = set(document)\n",
    "    features = {}\n",
    "    for word in word_features:\n",
    "        features['contains({})'.format(word)] = (word in document_words)\n",
    "    return features\n"
   ]
  },
  {
   "cell_type": "code",
   "execution_count": 63,
   "metadata": {},
   "outputs": [],
   "source": [
    "#all_words.items()"
   ]
  },
  {
   "cell_type": "code",
   "execution_count": 34,
   "metadata": {},
   "outputs": [
    {
     "name": "stdout",
     "output_type": "stream",
     "text": [
      "           Frequency\n",
      "Term                \n",
      "عتمان             13\n",
      "عند              245\n",
      "باقه               1\n",
      "جدال               1\n",
      "غه                 9\n",
      "...              ...\n",
      "صبفط               1\n",
      "مقبلتونيش          1\n",
      "عيشي               1\n",
      "تمساح              1\n",
      "ماعندو             1\n",
      "\n",
      "[11036 rows x 1 columns]\n"
     ]
    }
   ],
   "source": [
    "df_fdist = pd.DataFrame.from_dict(all_words, orient='index')\n",
    "df_fdist.columns = ['Frequency']\n",
    "df_fdist.index.name = 'Term'\n",
    "print(df_fdist)"
   ]
  },
  {
   "cell_type": "code",
   "execution_count": 35,
   "metadata": {
    "id": "u1XBRJuf8PVE"
   },
   "outputs": [],
   "source": [
    "\n",
    "featuresets = [(document_features(d), c) for (d,c) in documents]\n",
    "train_set, test_set = featuresets[100:], featuresets[:100]"
   ]
  },
  {
   "cell_type": "code",
   "execution_count": 36,
   "metadata": {
    "id": "luCL7Zzo9yMz"
   },
   "outputs": [],
   "source": [
    "# Train Naive Bayes classifier\n",
    "classifier = nltk.NaiveBayesClassifier.train(train_set)"
   ]
  },
  {
   "cell_type": "code",
   "execution_count": 37,
   "metadata": {
    "colab": {
     "base_uri": "https://localhost:8080/"
    },
    "id": "Lxyqi-byAixr",
    "outputId": "e5c39812-5588-4acf-8cb3-8673e0e6dda3"
   },
   "outputs": [
    {
     "name": "stdout",
     "output_type": "stream",
     "text": [
      "0.54\n"
     ]
    }
   ],
   "source": [
    "# Test the classifier\n",
    "print(nltk.classify.accuracy(classifier, test_set))"
   ]
  },
  {
   "cell_type": "code",
   "execution_count": 38,
   "metadata": {
    "colab": {
     "base_uri": "https://localhost:8080/",
     "height": 35
    },
    "id": "73809aa6",
    "outputId": "f252d33e-540c-4f3b-8678-612fd4bd4f21"
   },
   "outputs": [
    {
     "data": {
      "text/plain": [
       "1"
      ]
     },
     "execution_count": 38,
     "metadata": {},
     "output_type": "execute_result"
    }
   ],
   "source": [
    "classifier.classify(test_set[0][0])"
   ]
  },
  {
   "cell_type": "markdown",
   "metadata": {
    "id": "d62376d8"
   },
   "source": [
    "## Matrice de confusion "
   ]
  },
  {
   "cell_type": "code",
   "execution_count": 39,
   "metadata": {
    "id": "ed02bd91"
   },
   "outputs": [],
   "source": [
    "test_result = []\n",
    "gold_result = []\n",
    "\n",
    "for i in range(len(test_set)):\n",
    "    test_result.append(classifier.classify(test_set[i][0]))\n",
    "    gold_result.append(test_set[i][1])"
   ]
  },
  {
   "cell_type": "code",
   "execution_count": 40,
   "metadata": {
    "colab": {
     "base_uri": "https://localhost:8080/"
    },
    "id": "d07faa7b",
    "outputId": "40d9d90d-4dc5-42ca-d622-c18eadbb7cf4"
   },
   "outputs": [
    {
     "name": "stdout",
     "output_type": "stream",
     "text": [
      "  |  0  1 |\n",
      "--+-------+\n",
      "0 |<53>46 |\n",
      "1 |  . <1>|\n",
      "--+-------+\n",
      "(row = reference; col = test)\n",
      "\n"
     ]
    }
   ],
   "source": [
    "CM = nltk.ConfusionMatrix(gold_result, test_result)\n",
    "print(CM)"
   ]
  },
  {
   "cell_type": "markdown",
   "metadata": {},
   "source": [
    "Alors notre modèle a bien classé 45 commentaires de test de classe 0 négative et 34 commentaires de classe 1 positive avec un erreur en 19 commentaires prédites dans la classe 1 mais en réalité sont de classe 0."
   ]
  },
  {
   "cell_type": "code",
   "execution_count": 41,
   "metadata": {
    "colab": {
     "base_uri": "https://localhost:8080/"
    },
    "id": "QwA3FgLVAutP",
    "outputId": "0b0b5429-961d-4cf3-fa55-0c35f8da7257"
   },
   "outputs": [
    {
     "name": "stdout",
     "output_type": "stream",
     "text": [
      "Most Informative Features\n",
      "         contains(حمدله) = True                0 : 1      =     42.0 : 1.0\n",
      "           contains(حمد) = True                0 : 1      =     36.2 : 1.0\n",
      "          contains(جلال) = True                0 : 1      =     20.9 : 1.0\n",
      "           contains(اذن) = True                0 : 1      =     19.5 : 1.0\n",
      "          contains(قدير) = True                0 : 1      =     18.6 : 1.0\n"
     ]
    }
   ],
   "source": [
    "# voir quelles fonctionnalités  les plus informatives que classificateur naive Bayes a trouvé \n",
    "classifier.show_most_informative_features(5)"
   ]
  },
  {
   "cell_type": "markdown",
   "metadata": {
    "id": "JSag8ugtSUaQ"
   },
   "source": [
    "la fonction show_most_informative_features() permet d'afficher les caractéristique  plus informatives que classificateur naive Bayes a trouvé pour chaque classe par exemple: ce resultat: **contains(قدير) = True  1 : 0   =  18.6 : 1.0**  signifier que le mot قدير negative(0) 18.6 fois qu'il est positive(1). \n",
    "\n",
    "**max(Pr(feature |classLabel))/min(Pr(feature | classLabel))**"
   ]
  },
  {
   "cell_type": "markdown",
   "metadata": {},
   "source": [
    "## CountVectorizer "
   ]
  },
  {
   "cell_type": "markdown",
   "metadata": {
    "id": "Nu5t0oo2x7Ju"
   },
   "source": [
    "On peut également utiliser la classe CountVectorizer de sklearn.feature_extraction.text. qui permet de Convertir une collection de documents texte en une matrice de nombres de jetons (mot).\n",
    "\n",
    "On va définir un nombre maximum de fonctionnalités (nombre max de fonctionnalités qui aident le plus via l'attribut \"max_features\"). puis on va faire l'apprentissage sur le corpus ensuiteon va  appliquer la même transformation au corpus \".fit_transform(corpus)\" et finalement on va le convertir en un tableau."
   ]
  },
  {
   "cell_type": "code",
   "execution_count": 42,
   "metadata": {
    "colab": {
     "base_uri": "https://localhost:8080/"
    },
    "id": "41510bd1",
    "outputId": "c70e192c-dd31-4548-e0bc-1f89f8ef918f"
   },
   "outputs": [
    {
     "name": "stdout",
     "output_type": "stream",
     "text": [
      "Score (=accuracy) du modèle  sur le jeu de test :  83.13 %\n"
     ]
    }
   ],
   "source": [
    "# Modèle naive_bayes\n",
    "import nltk\n",
    "import random\n",
    "from sklearn.naive_bayes import  MultinomialNB\n",
    "from sklearn.feature_extraction.text import CountVectorizer\n",
    "from sklearn.model_selection import train_test_split\n",
    "from sklearn.metrics import accuracy_score,precision_score\n",
    "from sklearn.metrics import recall_score\n",
    "\n",
    "vectorizer = CountVectorizer(max_features=3000)\n",
    "X = df_MSAC[\"comment\"]\n",
    "y = df_MSAC[\"label\"]\n",
    "\n",
    "# Séparation des données en 2 parties : entraînement / test\n",
    "train_X, test_X, train_y, test_y = train_test_split(X, y, test_size=0.25,random_state=42)\n",
    " \n",
    "train_X = vectorizer.fit_transform(train_X) \n",
    "test_X = vectorizer.transform(test_X)\n",
    "# Entraînement du modèle\n",
    "mnb = MultinomialNB()\n",
    "mnb.fit(train_X, train_y)\n",
    "\n",
    "# Test the classifier\n",
    "predictions = mnb.predict(test_X)\n",
    "score_NVB=accuracy_score(test_y, predictions) * 100\n",
    "precision_NVB= precision_score(test_y, predictions) * 100\n",
    "recall_NVB= recall_score(test_y, predictions) * 100\n",
    "print('Score (=accuracy) du modèle  sur le jeu de test : ', round(accuracy_score(test_y, predictions) * 100, 2), '%')\n"
   ]
  },
  {
   "cell_type": "code",
   "execution_count": 43,
   "metadata": {},
   "outputs": [
    {
     "name": "stdout",
     "output_type": "stream",
     "text": [
      "              precision    recall  f1-score   support\n",
      "\n",
      "           0       0.84      0.66      0.74       394\n",
      "           1       0.83      0.93      0.88       691\n",
      "\n",
      "    accuracy                           0.83      1085\n",
      "   macro avg       0.83      0.79      0.81      1085\n",
      "weighted avg       0.83      0.83      0.83      1085\n",
      "\n"
     ]
    }
   ],
   "source": [
    "from sklearn.metrics import classification_report\n",
    "report = classification_report(test_y, predictions)\n",
    "print(report) "
   ]
  },
  {
   "cell_type": "markdown",
   "metadata": {
    "id": "V3lrB1ZHEQ6w"
   },
   "source": [
    "### Model naive bayes avec n-grame"
   ]
  },
  {
   "cell_type": "markdown",
   "metadata": {},
   "source": [
    "En général, le modèle du bag of words est une approche très simple de la vectorisation des mots et présente certaines limites. Généralement, les mots ne sont pas ordonnés au fur et à mesure qu'ils sont collectés, de sorte qu'une grande partie du contexte du texte est perdue.    L'utilisation de n-grammes, dans ce cas, peut aider à résoudre ce problème en établissant un certain ordre pour préserver le contexte"
   ]
  },
  {
   "cell_type": "markdown",
   "metadata": {},
   "source": [
    " en cherche à la meilleure valeur de n gram qui donne de bon résultat :"
   ]
  },
  {
   "cell_type": "code",
   "execution_count": 44,
   "metadata": {},
   "outputs": [
    {
     "name": "stdout",
     "output_type": "stream",
     "text": [
      "Score (=accuracy) du modèle avec 1 gramme:  83.13 %\n",
      "Score (=accuracy) du modèle avec 2 gramme:  82.86 %\n",
      "Score (=accuracy) du modèle avec 3 gramme:  83.23 %\n",
      "Score (=accuracy) du modèle avec 4 gramme:  83.41 %\n",
      "Score (=accuracy) du modèle avec 5 gramme:  83.13 %\n",
      "Score (=accuracy) du modèle avec 6 gramme:  83.13 %\n",
      "Score (=accuracy) du modèle avec 7 gramme:  83.04 %\n",
      "Score (=accuracy) du modèle avec 8 gramme:  83.04 %\n",
      "Score (=accuracy) du modèle avec 9 gramme:  83.04 %\n"
     ]
    }
   ],
   "source": [
    "for N in range(1,10):\n",
    "    vectorizer_G = CountVectorizer(max_features=3000, ngram_range=(1,N))\n",
    "\n",
    "    X = df_MSAC[\"comment\"]\n",
    "    y = df_MSAC[\"label\"]\n",
    "\n",
    "    # Séparation des données en 2 parties : entraînement / test\n",
    "    train_X, test_X, train_y, test_y = train_test_split(X, y, test_size=0.25,random_state=42)\n",
    " \n",
    "    train_X = vectorizer_G.fit_transform(train_X) \n",
    "    test_X = vectorizer_G.transform(test_X)\n",
    "    # Entraînement du modèle\n",
    "    mnb = MultinomialNB()\n",
    "    mnb.fit(train_X, train_y)\n",
    "    # Test the classifier\n",
    "    predictions_2G = mnb.predict(test_X)\n",
    "    print('Score (=accuracy) du modèle avec {} gramme: '.format(N), round(accuracy_score(test_y, predictions_2G) * 100, 2), '%')"
   ]
  },
  {
   "cell_type": "markdown",
   "metadata": {},
   "source": [
    "dans ce cas on obtient bon résultat lorsque on entraîne le modèle avec des 4-grammes. "
   ]
  },
  {
   "cell_type": "code",
   "execution_count": 45,
   "metadata": {
    "colab": {
     "base_uri": "https://localhost:8080/"
    },
    "id": "6fJwM8CHv4gj",
    "outputId": "c53db92b-b3fc-46c1-fcf5-b2142d9c8862"
   },
   "outputs": [
    {
     "name": "stdout",
     "output_type": "stream",
     "text": [
      "Score (=accuracy) du modèle  sur le jeu de test :  83.41 %\n"
     ]
    }
   ],
   "source": [
    "from sklearn.naive_bayes import  MultinomialNB\n",
    "from sklearn.feature_extraction.text import CountVectorizer\n",
    "from sklearn.model_selection import train_test_split\n",
    "from sklearn.metrics import accuracy_score,precision_score\n",
    "from sklearn.metrics import recall_score\n",
    "\n",
    "\n",
    "vectorizer_3G = CountVectorizer(max_features=3000, ngram_range=(1,4))\n",
    "\n",
    "X = df_MSAC[\"comment\"]\n",
    "y = df_MSAC[\"label\"]\n",
    "\n",
    "# Séparation des données en 2 parties : entraînement / test\n",
    "train_X, test_X, train_y, test_y = train_test_split(X, y, test_size=0.25,random_state=42)\n",
    " \n",
    "train_X = vectorizer_3G.fit_transform(train_X) \n",
    "test_X = vectorizer_3G.transform(test_X)\n",
    "# Entraînement du modèle\n",
    "mnb_4G = MultinomialNB()\n",
    "mnb_4G.fit(train_X, train_y)\n",
    "\n",
    "# Test the classifier\n",
    "predictions_3G = mnb_4G.predict(test_X)\n",
    "score_NVB_3G=accuracy_score(test_y, predictions_3G) * 100\n",
    "precision_NVB_3G= precision_score(test_y, predictions_3G) * 100\n",
    "recall_NVB_3G= recall_score(test_y, predictions_3G) * 100\n",
    "print('Score (=accuracy) du modèle  sur le jeu de test : ', round(accuracy_score(test_y, predictions_3G) * 100, 2), '%')\n"
   ]
  },
  {
   "cell_type": "code",
   "execution_count": 46,
   "metadata": {
    "colab": {
     "base_uri": "https://localhost:8080/"
    },
    "id": "e09f4a8d",
    "outputId": "01a35c40-c774-427e-db6d-8d50cba467b4"
   },
   "outputs": [
    {
     "name": "stdout",
     "output_type": "stream",
     "text": [
      "Score (=accuracy) du modèle decision_tree avec CountVectorizer sur le jeu de test :  77.05 %\n"
     ]
    }
   ],
   "source": [
    "# Modèle decision tree\n",
    "from sklearn.tree import DecisionTreeClassifier\n",
    "\n",
    "# Vectorisation des critiques\n",
    "vectorizer = CountVectorizer(max_features=3000)\n",
    "\n",
    "\n",
    "# Séparation des données en 2 parties : entraînement / test\n",
    "train_X, test_X, train_y, test_y = train_test_split(X, y, test_size=0.25,random_state=42)\n",
    " \n",
    "train_X = vectorizer.fit_transform(train_X) \n",
    "test_X = vectorizer.transform(test_X)\n",
    "\n",
    "# Entraînement du modèle\n",
    "decision_tree = DecisionTreeClassifier(random_state=0)\n",
    "decision_tree = decision_tree.fit(train_X, train_y)\n",
    "predictions_tree = decision_tree.predict(test_X)\n",
    "score_DT=accuracy_score(test_y, predictions_tree) * 100\n",
    "precision_DT= precision_score(test_y, predictions_tree) * 100\n",
    "recall_DT= recall_score(test_y, predictions_tree) * 100\n",
    "print('Score (=accuracy) du modèle decision_tree avec CountVectorizer sur le jeu de test : ', round(accuracy_score(test_y, predictions_tree) * 100, 2), '%')"
   ]
  },
  {
   "cell_type": "code",
   "execution_count": 47,
   "metadata": {},
   "outputs": [
    {
     "name": "stdout",
     "output_type": "stream",
     "text": [
      "              precision    recall  f1-score   support\n",
      "\n",
      "           0       0.84      0.66      0.74       394\n",
      "           1       0.83      0.93      0.88       691\n",
      "\n",
      "    accuracy                           0.83      1085\n",
      "   macro avg       0.83      0.79      0.81      1085\n",
      "weighted avg       0.83      0.83      0.83      1085\n",
      "\n"
     ]
    }
   ],
   "source": [
    "from sklearn.metrics import classification_report\n",
    "report = classification_report(test_y, predictions)\n",
    "print(report) "
   ]
  },
  {
   "cell_type": "code",
   "execution_count": 48,
   "metadata": {},
   "outputs": [
    {
     "name": "stdout",
     "output_type": "stream",
     "text": [
      "Score (=accuracy) du modèle decision_tree avec CountVectorizer sur le jeu de test :  82.86 %\n"
     ]
    }
   ],
   "source": [
    "from sklearn.ensemble  import RandomForestClassifier\n",
    "\n",
    "# Vectorisation des critiques\n",
    "vectorizer = CountVectorizer(max_features=4000)\n",
    "\n",
    "\n",
    "# Séparation des données en 2 parties : entraînement / test\n",
    "train_X, test_X, train_y, test_y = train_test_split(X, y, test_size=0.25,random_state=42)\n",
    " \n",
    "train_X = vectorizer.fit_transform(train_X) \n",
    "test_X = vectorizer.transform(test_X)\n",
    "\n",
    "# Entraînement du modèle\n",
    "rf = RandomForestClassifier(max_depth=None, random_state=32,n_estimators=1000)\n",
    "rf = rf.fit(train_X, train_y)\n",
    "predictions = rf.predict(test_X)\n",
    "score_RF=accuracy_score(test_y, predictions) * 100\n",
    "precision_RF= precision_score(test_y, predictions) * 100\n",
    "recall_RF= recall_score(test_y, predictions) * 100\n",
    "print('Score (=accuracy) du modèle decision_tree avec CountVectorizer sur le jeu de test : ', round(accuracy_score(test_y, predictions) * 100, 2), '%')"
   ]
  },
  {
   "cell_type": "code",
   "execution_count": 49,
   "metadata": {},
   "outputs": [
    {
     "name": "stdout",
     "output_type": "stream",
     "text": [
      "              precision    recall  f1-score   support\n",
      "\n",
      "           0       0.87      0.62      0.72       394\n",
      "           1       0.81      0.95      0.88       691\n",
      "\n",
      "    accuracy                           0.83      1085\n",
      "   macro avg       0.84      0.78      0.80      1085\n",
      "weighted avg       0.83      0.83      0.82      1085\n",
      "\n"
     ]
    }
   ],
   "source": [
    "from sklearn.metrics import classification_report\n",
    "report = classification_report(test_y, predictions)\n",
    "print(report)  "
   ]
  },
  {
   "cell_type": "markdown",
   "metadata": {
    "id": "V3lrB1ZHEQ6w"
   },
   "source": [
    "### Model naive bayes avec TfidfVectorizer"
   ]
  },
  {
   "cell_type": "code",
   "execution_count": 50,
   "metadata": {
    "colab": {
     "base_uri": "https://localhost:8080/"
    },
    "id": "6fJwM8CHv4gj",
    "outputId": "c53db92b-b3fc-46c1-fcf5-b2142d9c8862"
   },
   "outputs": [
    {
     "name": "stdout",
     "output_type": "stream",
     "text": [
      "Score (=accuracy) du modèle  sur le jeu de test :  81.47 %\n"
     ]
    }
   ],
   "source": [
    "# Modèle3 naive_bayes\n",
    "import nltk\n",
    "import random\n",
    "from sklearn.naive_bayes import  MultinomialNB\n",
    "from sklearn.feature_extraction.text import TfidfVectorizer\n",
    "from sklearn.metrics import accuracy_score,precision_score\n",
    "from sklearn.metrics import recall_score\n",
    "\n",
    "from sklearn.feature_extraction.text import TfidfVectorizer\n",
    "vectorizer_TFIDF = TfidfVectorizer(max_features=3000)\n",
    "# Séparation des données en 2 parties : entraînement / test\n",
    "train_X, test_X, train_y, test_y = train_test_split(X, y, test_size=0.25,random_state=42)\n",
    " \n",
    "train_X = vectorizer_TFIDF.fit_transform(train_X) \n",
    "test_X = vectorizer_TFIDF.transform(test_X)\n",
    "\n",
    "# Entraînement du modèle\n",
    "mnb_tf = MultinomialNB()\n",
    "mnb_tf.fit(train_X, train_y)\n",
    "\n",
    "# Test the classifier\n",
    "predictions_TF = mnb_tf.predict(test_X)\n",
    "score_NVB_TF=accuracy_score(test_y, predictions_TF) * 100\n",
    "precision_NVB_TF= precision_score(test_y, predictions_TF) * 100\n",
    "recall_NVB_TF= recall_score(test_y, predictions_TF) * 100\n",
    "print('Score (=accuracy) du modèle  sur le jeu de test : ', round(accuracy_score(test_y, predictions_TF) * 100, 2), '%')\n"
   ]
  },
  {
   "cell_type": "code",
   "execution_count": 51,
   "metadata": {},
   "outputs": [
    {
     "name": "stdout",
     "output_type": "stream",
     "text": [
      "Score (=accuracy) du modèle  sur le jeu de test :  82.95 %\n"
     ]
    }
   ],
   "source": [
    "# Modèle3 naive_bayes\n",
    "import nltk\n",
    "import random\n",
    "from sklearn.naive_bayes import  MultinomialNB\n",
    "from sklearn.feature_extraction.text import TfidfVectorizer\n",
    "from sklearn.metrics import accuracy_score,precision_score\n",
    "from sklearn.metrics import recall_score\n",
    "\n",
    "from sklearn.feature_extraction.text import TfidfVectorizer\n",
    "vectorizer_TFIDF = TfidfVectorizer(max_features=3000, ngram_range=(1,4))\n",
    "\n",
    "\n",
    "# Séparation des données en 2 parties : entraînement / test\n",
    "train_X, test_X, train_y, test_y = train_test_split(X, y, test_size=0.25,random_state=42)\n",
    " \n",
    "train_X = vectorizer_TFIDF.fit_transform(train_X) \n",
    "test_X = vectorizer_TFIDF.transform(test_X)\n",
    "\n",
    "# Entraînement du modèle\n",
    "mnbtfG = MultinomialNB()\n",
    "mnbtfG.fit(train_X, train_y)\n",
    "\n",
    "# Test the classifier\n",
    "predictions_TF_G = mnbtfG.predict(test_X)\n",
    "score_NVB_TF_G=accuracy_score(test_y, predictions_TF_G) * 100\n",
    "precision_NVB_TF_G= precision_score(test_y, predictions_TF_G) * 100\n",
    "recall_NVB_TF_G= recall_score(test_y, predictions_TF_G) * 100\n",
    "print('Score (=accuracy) du modèle  sur le jeu de test : ', round(accuracy_score(test_y, predictions_TF_G) * 100, 2), '%')\n"
   ]
  },
  {
   "cell_type": "markdown",
   "metadata": {
    "id": "jO0ezADjEQ6q"
   },
   "source": [
    "### SVM"
   ]
  },
  {
   "cell_type": "code",
   "execution_count": 52,
   "metadata": {
    "colab": {
     "base_uri": "https://localhost:8080/"
    },
    "id": "FqeplIAqEQ6r",
    "outputId": "cfa2842b-9c48-418d-f62c-59a18692a6e8"
   },
   "outputs": [
    {
     "name": "stdout",
     "output_type": "stream",
     "text": [
      "Score (=accuracy) du modèle svm  sur le jeu de test :  79.38 %\n"
     ]
    }
   ],
   "source": [
    "#modéle SVM\n",
    "from sklearn import svm\n",
    "from sklearn.feature_extraction.text import CountVectorizer\n",
    "from sklearn.model_selection import train_test_split\n",
    "from sklearn.tree import DecisionTreeClassifier\n",
    "from sklearn.metrics import accuracy_score\n",
    "\n",
    "# Modèle 1\n",
    "df_MSAC.columns = [DATA_COLUMN, LABEL_COLUMN]\n",
    "\n",
    "#train_MSAC, test_MSAC = train_test_split(df_MSAC, test_size=0.2, random_state=42)\n",
    "\n",
    "# Vectorisation des critiques\n",
    "vectorizer = CountVectorizer(max_features=256)\n",
    "X = vectorizer.fit_transform(df_MSAC[DATA_COLUMN])\n",
    "y = df_MSAC[LABEL_COLUMN]\n",
    "\n",
    "train_X, val_X, train_y, val_y = train_test_split(X, y,  test_size=0.2,random_state=42)\n",
    "lin_clf = svm.LinearSVC()\n",
    "lin_cl=lin_clf.fit(train_X, train_y)\n",
    "predictions = lin_cl.predict(val_X)\n",
    "#score_svm=accuracy_score( predictions , test_y) * 100\n",
    "#precision_svm= precision_score( predictions , test_y) * 100\n",
    "#recall_svm= recall_score(predictions , test_y) * 100\n",
    "print('Score (=accuracy) du modèle svm  sur le jeu de test : ', round(accuracy_score(predictions,val_y) * 100, 2), '%')"
   ]
  },
  {
   "cell_type": "markdown",
   "metadata": {},
   "source": [
    "#### Comparaison des résultat:"
   ]
  },
  {
   "cell_type": "code",
   "execution_count": 53,
   "metadata": {},
   "outputs": [
    {
     "data": {
      "text/html": [
       "<div>\n",
       "<style scoped>\n",
       "    .dataframe tbody tr th:only-of-type {\n",
       "        vertical-align: middle;\n",
       "    }\n",
       "\n",
       "    .dataframe tbody tr th {\n",
       "        vertical-align: top;\n",
       "    }\n",
       "\n",
       "    .dataframe thead th {\n",
       "        text-align: right;\n",
       "    }\n",
       "</style>\n",
       "<table border=\"1\" class=\"dataframe\">\n",
       "  <thead>\n",
       "    <tr style=\"text-align: right;\">\n",
       "      <th></th>\n",
       "      <th>accuracy</th>\n",
       "      <th>precision</th>\n",
       "      <th>recall_score</th>\n",
       "    </tr>\n",
       "  </thead>\n",
       "  <tbody>\n",
       "    <tr>\n",
       "      <th>Naive Bayes</th>\n",
       "      <td>83.133641</td>\n",
       "      <td>82.731959</td>\n",
       "      <td>92.908828</td>\n",
       "    </tr>\n",
       "    <tr>\n",
       "      <th>Decision Tree</th>\n",
       "      <td>77.050691</td>\n",
       "      <td>81.126761</td>\n",
       "      <td>83.357453</td>\n",
       "    </tr>\n",
       "    <tr>\n",
       "      <th>Random Forest</th>\n",
       "      <td>82.857143</td>\n",
       "      <td>81.444583</td>\n",
       "      <td>94.645441</td>\n",
       "    </tr>\n",
       "  </tbody>\n",
       "</table>\n",
       "</div>"
      ],
      "text/plain": [
       "                 accuracy  precision  recall_score\n",
       "Naive Bayes     83.133641  82.731959     92.908828\n",
       "Decision Tree   77.050691  81.126761     83.357453\n",
       "Random Forest   82.857143  81.444583     94.645441"
      ]
     },
     "execution_count": 53,
     "metadata": {},
     "output_type": "execute_result"
    }
   ],
   "source": [
    "import pandas as pd\n",
    "import numpy as np\n",
    "pd= pd.DataFrame(np.array([[score_NVB,precision_NVB,recall_NVB],[score_DT,precision_DT,recall_DT],[score_RF,precision_RF,recall_RF]]),\n",
    "                columns=['accuracy', 'precision','recall_score'], index=['Naive Bayes', 'Decision Tree ','Random Forest'])\n",
    "pd "
   ]
  },
  {
   "cell_type": "code",
   "execution_count": 54,
   "metadata": {},
   "outputs": [
    {
     "data": {
      "text/html": [
       "<div>\n",
       "<style scoped>\n",
       "    .dataframe tbody tr th:only-of-type {\n",
       "        vertical-align: middle;\n",
       "    }\n",
       "\n",
       "    .dataframe tbody tr th {\n",
       "        vertical-align: top;\n",
       "    }\n",
       "\n",
       "    .dataframe thead th {\n",
       "        text-align: right;\n",
       "    }\n",
       "</style>\n",
       "<table border=\"1\" class=\"dataframe\">\n",
       "  <thead>\n",
       "    <tr style=\"text-align: right;\">\n",
       "      <th></th>\n",
       "      <th>accuracy</th>\n",
       "      <th>precision</th>\n",
       "      <th>recall_score</th>\n",
       "    </tr>\n",
       "  </thead>\n",
       "  <tbody>\n",
       "    <tr>\n",
       "      <th>Naive Bayes avec CountVectorizer 1_gram</th>\n",
       "      <td>83.133641</td>\n",
       "      <td>82.731959</td>\n",
       "      <td>92.908828</td>\n",
       "    </tr>\n",
       "    <tr>\n",
       "      <th>Naive Bayes avec CountVectorizer 4_gram</th>\n",
       "      <td>83.410138</td>\n",
       "      <td>82.967742</td>\n",
       "      <td>93.053546</td>\n",
       "    </tr>\n",
       "    <tr>\n",
       "      <th>Naive Bayes avec TfidfVectorizer 1_gram</th>\n",
       "      <td>81.474654</td>\n",
       "      <td>77.968037</td>\n",
       "      <td>98.842258</td>\n",
       "    </tr>\n",
       "    <tr>\n",
       "      <th>Naive Bayes avec TfidfVectorizer 4_gram</th>\n",
       "      <td>82.949309</td>\n",
       "      <td>79.487179</td>\n",
       "      <td>98.697540</td>\n",
       "    </tr>\n",
       "  </tbody>\n",
       "</table>\n",
       "</div>"
      ],
      "text/plain": [
       "                                           accuracy  precision  recall_score\n",
       "Naive Bayes avec CountVectorizer 1_gram   83.133641  82.731959     92.908828\n",
       "Naive Bayes avec CountVectorizer 4_gram   83.410138  82.967742     93.053546\n",
       "Naive Bayes avec TfidfVectorizer 1_gram   81.474654  77.968037     98.842258\n",
       "Naive Bayes avec TfidfVectorizer 4_gram   82.949309  79.487179     98.697540"
      ]
     },
     "execution_count": 54,
     "metadata": {},
     "output_type": "execute_result"
    }
   ],
   "source": [
    "import pandas as pd\n",
    "import numpy as np\n",
    "pd= pd.DataFrame(np.array([[score_NVB,precision_NVB,recall_NVB],[score_NVB_3G,precision_NVB_3G,recall_NVB_3G],[score_NVB_TF,precision_NVB_TF,recall_NVB_TF],[score_NVB_TF_G,precision_NVB_TF_G,recall_NVB_TF_G]]),\n",
    "                columns=['accuracy', 'precision','recall_score'], index=['Naive Bayes avec CountVectorizer 1_gram', 'Naive Bayes avec CountVectorizer 4_gram ','Naive Bayes avec TfidfVectorizer 1_gram','Naive Bayes avec TfidfVectorizer 4_gram'])\n",
    "pd "
   ]
  },
  {
   "cell_type": "markdown",
   "metadata": {},
   "source": [
    "Alors dans ce cas la meilleure méthode pour extraire les caractéristiques  du texte  est CountVectorizer avec 4-gram (séquences de 4 mots)."
   ]
  },
  {
   "cell_type": "code",
   "execution_count": null,
   "metadata": {},
   "outputs": [],
   "source": []
  },
  {
   "cell_type": "markdown",
   "metadata": {},
   "source": [
    "### Enregistrement de modèle:"
   ]
  },
  {
   "cell_type": "code",
   "execution_count": 55,
   "metadata": {
    "id": "uTucZp2TIQWN"
   },
   "outputs": [],
   "source": [
    "import pickle, warnings\n",
    "filename=\"review_model_NVB.pkl\"\n",
    "file = open(filename,\"wb\")\n",
    "pickle.dump(mnb_4G,file)\n",
    "file.close()"
   ]
  },
  {
   "cell_type": "code",
   "execution_count": 3,
   "metadata": {
    "colab": {
     "base_uri": "https://localhost:8080/"
    },
    "id": "fantXf82JeP7",
    "outputId": "6c757c82-cd98-4ebc-fc65-d2b720169adf"
   },
   "outputs": [
    {
     "data": {
      "text/plain": [
       "MultinomialNB()"
      ]
     },
     "execution_count": 3,
     "metadata": {},
     "output_type": "execute_result"
    }
   ],
   "source": [
    "import pickle, warnings\n",
    "fl = open(\"review_model_NVB.pkl\",\"rb\")\n",
    "c = pickle.load(fl)\n",
    "c"
   ]
  },
  {
   "cell_type": "code",
   "execution_count": 4,
   "metadata": {
    "id": "Cpd1DhuBKk8l"
   },
   "outputs": [
    {
     "ename": "NameError",
     "evalue": "name 'vectorizer' is not defined",
     "output_type": "error",
     "traceback": [
      "\u001b[1;31m---------------------------------------------------------------------------\u001b[0m",
      "\u001b[1;31mNameError\u001b[0m                                 Traceback (most recent call last)",
      "\u001b[1;32m<ipython-input-4-3ff2844ebef6>\u001b[0m in \u001b[0;36m<module>\u001b[1;34m\u001b[0m\n\u001b[0;32m      1\u001b[0m \u001b[0mcountvector\u001b[0m \u001b[1;33m=\u001b[0m \u001b[1;34m\"review_cv.pkl\"\u001b[0m\u001b[1;33m\u001b[0m\u001b[1;33m\u001b[0m\u001b[0m\n\u001b[0;32m      2\u001b[0m \u001b[0mcfile\u001b[0m \u001b[1;33m=\u001b[0m \u001b[0mopen\u001b[0m\u001b[1;33m(\u001b[0m\u001b[0mcountvector\u001b[0m\u001b[1;33m,\u001b[0m\u001b[1;34m\"wb\"\u001b[0m\u001b[1;33m)\u001b[0m\u001b[1;33m\u001b[0m\u001b[1;33m\u001b[0m\u001b[0m\n\u001b[1;32m----> 3\u001b[1;33m \u001b[0mpickle\u001b[0m\u001b[1;33m.\u001b[0m\u001b[0mdump\u001b[0m\u001b[1;33m(\u001b[0m\u001b[0mvectorizer\u001b[0m\u001b[1;33m,\u001b[0m\u001b[0mcfile\u001b[0m\u001b[1;33m)\u001b[0m\u001b[1;33m\u001b[0m\u001b[1;33m\u001b[0m\u001b[0m\n\u001b[0m\u001b[0;32m      4\u001b[0m \u001b[0mfile\u001b[0m\u001b[1;33m.\u001b[0m\u001b[0mclose\u001b[0m\u001b[1;33m(\u001b[0m\u001b[1;33m)\u001b[0m\u001b[1;33m\u001b[0m\u001b[1;33m\u001b[0m\u001b[0m\n",
      "\u001b[1;31mNameError\u001b[0m: name 'vectorizer' is not defined"
     ]
    }
   ],
   "source": [
    "countvector = \"review_cv.pkl\"\n",
    "cfile = open(countvector,\"wb\")\n",
    "pickle.dump(vectorizer,cfile)\n",
    "file.close()"
   ]
  },
  {
   "cell_type": "code",
   "execution_count": 5,
   "metadata": {
    "colab": {
     "base_uri": "https://localhost:8080/"
    },
    "id": "86yuGjouLCX5",
    "outputId": "b2c7f74e-6eaf-47ed-da3e-cf59bbd12838"
   },
   "outputs": [
    {
     "ename": "EOFError",
     "evalue": "Ran out of input",
     "output_type": "error",
     "traceback": [
      "\u001b[1;31m---------------------------------------------------------------------------\u001b[0m",
      "\u001b[1;31mEOFError\u001b[0m                                  Traceback (most recent call last)",
      "\u001b[1;32m<ipython-input-5-9a3993b6bda7>\u001b[0m in \u001b[0;36m<module>\u001b[1;34m\u001b[0m\n\u001b[0;32m      1\u001b[0m \u001b[0mcfl\u001b[0m \u001b[1;33m=\u001b[0m \u001b[0mopen\u001b[0m\u001b[1;33m(\u001b[0m\u001b[1;34m\"review_cv.pkl\"\u001b[0m\u001b[1;33m,\u001b[0m\u001b[1;34m\"rb\"\u001b[0m\u001b[1;33m)\u001b[0m\u001b[1;33m\u001b[0m\u001b[1;33m\u001b[0m\u001b[0m\n\u001b[1;32m----> 2\u001b[1;33m \u001b[0mcv\u001b[0m\u001b[1;33m=\u001b[0m\u001b[0mpickle\u001b[0m\u001b[1;33m.\u001b[0m\u001b[0mload\u001b[0m\u001b[1;33m(\u001b[0m\u001b[0mcfl\u001b[0m\u001b[1;33m)\u001b[0m\u001b[1;33m\u001b[0m\u001b[1;33m\u001b[0m\u001b[0m\n\u001b[0m\u001b[0;32m      3\u001b[0m \u001b[0mcv\u001b[0m\u001b[1;33m\u001b[0m\u001b[1;33m\u001b[0m\u001b[0m\n",
      "\u001b[1;31mEOFError\u001b[0m: Ran out of input"
     ]
    }
   ],
   "source": [
    "cfl = open(\"review_cv.pkl\",\"rb\")\n",
    "cv=pickle.load(cfl)\n",
    "cv"
   ]
  },
  {
   "cell_type": "code",
   "execution_count": 59,
   "metadata": {
    "id": "yZuN1-9WMNOS"
   },
   "outputs": [],
   "source": [
    "import tkinter \n",
    "from tkinter import messagebox"
   ]
  },
  {
   "cell_type": "code",
   "execution_count": null,
   "metadata": {
    "colab": {
     "base_uri": "https://localhost:8080/",
     "height": 356
    },
    "id": "xJDYgUhRL8-z",
    "outputId": "346ab03c-8e7f-4ec1-afbf-775f3144a218"
   },
   "outputs": [],
   "source": [
    "from  tkinter import *\n",
    "main = Tk()\n",
    "def get_pred():\n",
    "    rv = lb.get(\"1.0\",END)\n",
    "    tst = cv.transform([rv])\n",
    "    rs = c.predict(tst)\n",
    "    label ={0:\"Negative 😞\",1:\"Positive 😊\"}\n",
    "    dd = label[rs[0]]\n",
    "    lbl1.config(text=dd,fg=\"green\")\n",
    "    messagebox.showinfo(\"Result\",dd)\n",
    "\n",
    "main.title(\"SENTIMENT ANALYSIS ON FOOD REVIEWS\")\n",
    "lbl= Label(text=\"SENTIMENT ANALYSIS\",fg=\"red\",bg=\"white\",font=(\"georgia\",20))\n",
    "lbl.pack()\n",
    "\n",
    "lbl1= Label(bg=\"white\",font=(\"georgia\",20))\n",
    "lbl1.pack()\n",
    "\n",
    "lb = Text(main,)\n",
    "lb.pack(pady=3)\n",
    "\n",
    "btn = Button(main,bg=\"green\",fg=\"white\",text=\"Check\",height=5,command=get_pred)\n",
    "btn.pack(fill=\"x\",pady=3)\n",
    "main.mainloop()"
   ]
  },
  {
   "cell_type": "code",
   "execution_count": null,
   "metadata": {},
   "outputs": [],
   "source": []
  },
  {
   "cell_type": "code",
   "execution_count": 61,
   "metadata": {},
   "outputs": [
    {
     "ename": "InternalHashError",
     "evalue": "module '__main__' has no attribute '__file__'\n\nWhile caching the body of `nltk_download()`, Streamlit encountered an\nobject of type `builtins.function`, which it does not know how to hash.\n\n**In this specific case, it's very likely you found a Streamlit bug so please\n[file a bug report here.]\n(https://github.com/streamlit/streamlit/issues/new/choose)**\n\nIn the meantime, you can try bypassing this error by registering a custom\nhash function via the `hash_funcs` keyword in @st.cache(). For example:\n\n```\n@st.cache(hash_funcs={builtins.function: my_hash_func})\ndef my_func(...):\n    ...\n```\n\nIf you don't know where the object of type `builtins.function` is coming\nfrom, try looking at the hash chain below for an object that you do recognize,\nthen pass that to `hash_funcs` instead:\n\n```\nObject of type builtins.function: <function nltk_download at 0x000001D7901BD310>\n```\n\nPlease see the `hash_funcs` [documentation]\n(https://docs.streamlit.io/library/advanced-features/caching#the-hash_funcs-parameter)\nfor more details.\n            ",
     "output_type": "error",
     "traceback": [
      "\u001b[1;31m---------------------------------------------------------------------------\u001b[0m",
      "\u001b[1;31mAttributeError\u001b[0m                            Traceback (most recent call last)",
      "\u001b[1;32m~\\anaconda3\\lib\\site-packages\\streamlit\\legacy_caching\\hashing.py\u001b[0m in \u001b[0;36mto_bytes\u001b[1;34m(self, obj, context)\u001b[0m\n\u001b[0;32m    367\u001b[0m             \u001b[1;31m# Hash the input\u001b[0m\u001b[1;33m\u001b[0m\u001b[1;33m\u001b[0m\u001b[1;33m\u001b[0m\u001b[0m\n\u001b[1;32m--> 368\u001b[1;33m             \u001b[0mb\u001b[0m \u001b[1;33m=\u001b[0m \u001b[1;34mb\"%s:%s\"\u001b[0m \u001b[1;33m%\u001b[0m \u001b[1;33m(\u001b[0m\u001b[0mtname\u001b[0m\u001b[1;33m,\u001b[0m \u001b[0mself\u001b[0m\u001b[1;33m.\u001b[0m\u001b[0m_to_bytes\u001b[0m\u001b[1;33m(\u001b[0m\u001b[0mobj\u001b[0m\u001b[1;33m,\u001b[0m \u001b[0mcontext\u001b[0m\u001b[1;33m)\u001b[0m\u001b[1;33m)\u001b[0m\u001b[1;33m\u001b[0m\u001b[1;33m\u001b[0m\u001b[0m\n\u001b[0m\u001b[0;32m    369\u001b[0m \u001b[1;33m\u001b[0m\u001b[0m\n",
      "\u001b[1;32m~\\anaconda3\\lib\\site-packages\\streamlit\\legacy_caching\\hashing.py\u001b[0m in \u001b[0;36m_to_bytes\u001b[1;34m(self, obj, context)\u001b[0m\n\u001b[0;32m    633\u001b[0m             \u001b[1;32massert\u001b[0m \u001b[0mcode\u001b[0m \u001b[1;32mis\u001b[0m \u001b[1;32mnot\u001b[0m \u001b[1;32mNone\u001b[0m\u001b[1;33m\u001b[0m\u001b[1;33m\u001b[0m\u001b[0m\n\u001b[1;32m--> 634\u001b[1;33m             \u001b[1;32mif\u001b[0m \u001b[0mself\u001b[0m\u001b[1;33m.\u001b[0m\u001b[0m_file_should_be_hashed\u001b[0m\u001b[1;33m(\u001b[0m\u001b[0mcode\u001b[0m\u001b[1;33m.\u001b[0m\u001b[0mco_filename\u001b[0m\u001b[1;33m)\u001b[0m\u001b[1;33m:\u001b[0m\u001b[1;33m\u001b[0m\u001b[1;33m\u001b[0m\u001b[0m\n\u001b[0m\u001b[0;32m    635\u001b[0m                 \u001b[0mcontext\u001b[0m \u001b[1;33m=\u001b[0m \u001b[0m_get_context\u001b[0m\u001b[1;33m(\u001b[0m\u001b[0mobj\u001b[0m\u001b[1;33m)\u001b[0m\u001b[1;33m\u001b[0m\u001b[1;33m\u001b[0m\u001b[0m\n",
      "\u001b[1;32m~\\anaconda3\\lib\\site-packages\\streamlit\\legacy_caching\\hashing.py\u001b[0m in \u001b[0;36m_file_should_be_hashed\u001b[1;34m(self, filename)\u001b[0m\n\u001b[0;32m    409\u001b[0m         return file_util.file_is_in_folder_glob(\n\u001b[1;32m--> 410\u001b[1;33m             \u001b[0mfilepath\u001b[0m\u001b[1;33m,\u001b[0m \u001b[0mself\u001b[0m\u001b[1;33m.\u001b[0m\u001b[0m_get_main_script_directory\u001b[0m\u001b[1;33m(\u001b[0m\u001b[1;33m)\u001b[0m\u001b[1;33m\u001b[0m\u001b[1;33m\u001b[0m\u001b[0m\n\u001b[0m\u001b[0;32m    411\u001b[0m         ) or file_util.file_in_pythonpath(filepath)\n",
      "\u001b[1;32m~\\anaconda3\\lib\\site-packages\\streamlit\\legacy_caching\\hashing.py\u001b[0m in \u001b[0;36m_get_main_script_directory\u001b[1;34m()\u001b[0m\n\u001b[0;32m    720\u001b[0m         \u001b[1;31m# script path in ScriptRunner.\u001b[0m\u001b[1;33m\u001b[0m\u001b[1;33m\u001b[0m\u001b[1;33m\u001b[0m\u001b[0m\n\u001b[1;32m--> 721\u001b[1;33m         \u001b[0mmain_path\u001b[0m \u001b[1;33m=\u001b[0m \u001b[0m__main__\u001b[0m\u001b[1;33m.\u001b[0m\u001b[0m__file__\u001b[0m\u001b[1;33m\u001b[0m\u001b[1;33m\u001b[0m\u001b[0m\n\u001b[0m\u001b[0;32m    722\u001b[0m         \u001b[1;32mreturn\u001b[0m \u001b[0mstr\u001b[0m\u001b[1;33m(\u001b[0m\u001b[0mos\u001b[0m\u001b[1;33m.\u001b[0m\u001b[0mpath\u001b[0m\u001b[1;33m.\u001b[0m\u001b[0mdirname\u001b[0m\u001b[1;33m(\u001b[0m\u001b[0mmain_path\u001b[0m\u001b[1;33m)\u001b[0m\u001b[1;33m)\u001b[0m\u001b[1;33m\u001b[0m\u001b[1;33m\u001b[0m\u001b[0m\n",
      "\u001b[1;31mAttributeError\u001b[0m: module '__main__' has no attribute '__file__'",
      "\nDuring handling of the above exception, another exception occurred:\n",
      "\u001b[1;31mInternalHashError\u001b[0m                         Traceback (most recent call last)",
      "\u001b[1;32m<ipython-input-61-afdeb1b945e2>\u001b[0m in \u001b[0;36m<module>\u001b[1;34m\u001b[0m\n\u001b[0;32m     31\u001b[0m     \u001b[1;32mreturn\u001b[0m \u001b[0mnltk\u001b[0m\u001b[1;33m.\u001b[0m\u001b[0mdownload\u001b[0m\u001b[1;33m(\u001b[0m\u001b[1;34m'punkt'\u001b[0m\u001b[1;33m)\u001b[0m\u001b[1;33m\u001b[0m\u001b[1;33m\u001b[0m\u001b[0m\n\u001b[0;32m     32\u001b[0m \u001b[1;33m\u001b[0m\u001b[0m\n\u001b[1;32m---> 33\u001b[1;33m \u001b[0mnltk_download\u001b[0m\u001b[1;33m(\u001b[0m\u001b[1;33m)\u001b[0m\u001b[1;33m\u001b[0m\u001b[1;33m\u001b[0m\u001b[0m\n\u001b[0m\u001b[0;32m     34\u001b[0m \u001b[1;33m\u001b[0m\u001b[0m\n\u001b[0;32m     35\u001b[0m \u001b[1;33m@\u001b[0m\u001b[0mst\u001b[0m\u001b[1;33m.\u001b[0m\u001b[0mcache\u001b[0m\u001b[1;33m(\u001b[0m\u001b[0mallow_output_mutation\u001b[0m\u001b[1;33m=\u001b[0m\u001b[1;32mTrue\u001b[0m\u001b[1;33m,\u001b[0m \u001b[0mshow_spinner\u001b[0m\u001b[1;33m=\u001b[0m\u001b[1;32mFalse\u001b[0m\u001b[1;33m)\u001b[0m\u001b[1;33m\u001b[0m\u001b[1;33m\u001b[0m\u001b[0m\n",
      "\u001b[1;32m~\\anaconda3\\lib\\site-packages\\streamlit\\legacy_caching\\caching.py\u001b[0m in \u001b[0;36mwrapped_func\u001b[1;34m(*args, **kwargs)\u001b[0m\n\u001b[0;32m    573\u001b[0m                 \u001b[1;32mreturn\u001b[0m \u001b[0mget_or_create_cached_value\u001b[0m\u001b[1;33m(\u001b[0m\u001b[1;33m)\u001b[0m\u001b[1;33m\u001b[0m\u001b[1;33m\u001b[0m\u001b[0m\n\u001b[0;32m    574\u001b[0m         \u001b[1;32melse\u001b[0m\u001b[1;33m:\u001b[0m\u001b[1;33m\u001b[0m\u001b[1;33m\u001b[0m\u001b[0m\n\u001b[1;32m--> 575\u001b[1;33m             \u001b[1;32mreturn\u001b[0m \u001b[0mget_or_create_cached_value\u001b[0m\u001b[1;33m(\u001b[0m\u001b[1;33m)\u001b[0m\u001b[1;33m\u001b[0m\u001b[1;33m\u001b[0m\u001b[0m\n\u001b[0m\u001b[0;32m    576\u001b[0m \u001b[1;33m\u001b[0m\u001b[0m\n\u001b[0;32m    577\u001b[0m     \u001b[1;31m# Make this a well-behaved decorator by preserving important function\u001b[0m\u001b[1;33m\u001b[0m\u001b[1;33m\u001b[0m\u001b[1;33m\u001b[0m\u001b[0m\n",
      "\u001b[1;32m~\\anaconda3\\lib\\site-packages\\streamlit\\legacy_caching\\caching.py\u001b[0m in \u001b[0;36mget_or_create_cached_value\u001b[1;34m()\u001b[0m\n\u001b[0;32m    496\u001b[0m                 \u001b[1;31m# If we generated the key earlier we would only hash those\u001b[0m\u001b[1;33m\u001b[0m\u001b[1;33m\u001b[0m\u001b[1;33m\u001b[0m\u001b[0m\n\u001b[0;32m    497\u001b[0m                 \u001b[1;31m# globals by name, and miss changes in their code or value.\u001b[0m\u001b[1;33m\u001b[0m\u001b[1;33m\u001b[0m\u001b[1;33m\u001b[0m\u001b[0m\n\u001b[1;32m--> 498\u001b[1;33m                 \u001b[0mcache_key\u001b[0m \u001b[1;33m=\u001b[0m \u001b[0m_hash_func\u001b[0m\u001b[1;33m(\u001b[0m\u001b[0mfunc\u001b[0m\u001b[1;33m,\u001b[0m \u001b[0mhash_funcs\u001b[0m\u001b[1;33m)\u001b[0m\u001b[1;33m\u001b[0m\u001b[1;33m\u001b[0m\u001b[0m\n\u001b[0m\u001b[0;32m    499\u001b[0m \u001b[1;33m\u001b[0m\u001b[0m\n\u001b[0;32m    500\u001b[0m             \u001b[1;31m# First, get the cache that's attached to this function.\u001b[0m\u001b[1;33m\u001b[0m\u001b[1;33m\u001b[0m\u001b[1;33m\u001b[0m\u001b[0m\n",
      "\u001b[1;32m~\\anaconda3\\lib\\site-packages\\streamlit\\legacy_caching\\caching.py\u001b[0m in \u001b[0;36m_hash_func\u001b[1;34m(func, hash_funcs)\u001b[0m\n\u001b[0;32m    622\u001b[0m     \u001b[1;31m# because this step will be hashing any objects referenced in the function\u001b[0m\u001b[1;33m\u001b[0m\u001b[1;33m\u001b[0m\u001b[1;33m\u001b[0m\u001b[0m\n\u001b[0;32m    623\u001b[0m     \u001b[1;31m# body.\u001b[0m\u001b[1;33m\u001b[0m\u001b[1;33m\u001b[0m\u001b[1;33m\u001b[0m\u001b[0m\n\u001b[1;32m--> 624\u001b[1;33m     update_hash(\n\u001b[0m\u001b[0;32m    625\u001b[0m         \u001b[0mfunc\u001b[0m\u001b[1;33m,\u001b[0m\u001b[1;33m\u001b[0m\u001b[1;33m\u001b[0m\u001b[0m\n\u001b[0;32m    626\u001b[0m         \u001b[0mhasher\u001b[0m\u001b[1;33m=\u001b[0m\u001b[0mfunc_hasher\u001b[0m\u001b[1;33m,\u001b[0m\u001b[1;33m\u001b[0m\u001b[1;33m\u001b[0m\u001b[0m\n",
      "\u001b[1;32m~\\anaconda3\\lib\\site-packages\\streamlit\\legacy_caching\\hashing.py\u001b[0m in \u001b[0;36mupdate_hash\u001b[1;34m(val, hasher, hash_reason, hash_source, context, hash_funcs)\u001b[0m\n\u001b[0;32m    114\u001b[0m \u001b[1;33m\u001b[0m\u001b[0m\n\u001b[0;32m    115\u001b[0m     \u001b[0mch\u001b[0m \u001b[1;33m=\u001b[0m \u001b[0m_CodeHasher\u001b[0m\u001b[1;33m(\u001b[0m\u001b[0mhash_funcs\u001b[0m\u001b[1;33m)\u001b[0m\u001b[1;33m\u001b[0m\u001b[1;33m\u001b[0m\u001b[0m\n\u001b[1;32m--> 116\u001b[1;33m     \u001b[0mch\u001b[0m\u001b[1;33m.\u001b[0m\u001b[0mupdate\u001b[0m\u001b[1;33m(\u001b[0m\u001b[0mhasher\u001b[0m\u001b[1;33m,\u001b[0m \u001b[0mval\u001b[0m\u001b[1;33m,\u001b[0m \u001b[0mcontext\u001b[0m\u001b[1;33m)\u001b[0m\u001b[1;33m\u001b[0m\u001b[1;33m\u001b[0m\u001b[0m\n\u001b[0m\u001b[0;32m    117\u001b[0m \u001b[1;33m\u001b[0m\u001b[0m\n\u001b[0;32m    118\u001b[0m \u001b[1;33m\u001b[0m\u001b[0m\n",
      "\u001b[1;32m~\\anaconda3\\lib\\site-packages\\streamlit\\legacy_caching\\hashing.py\u001b[0m in \u001b[0;36mupdate\u001b[1;34m(self, hasher, obj, context)\u001b[0m\n\u001b[0;32m    391\u001b[0m     \u001b[1;32mdef\u001b[0m \u001b[0mupdate\u001b[0m\u001b[1;33m(\u001b[0m\u001b[0mself\u001b[0m\u001b[1;33m,\u001b[0m \u001b[0mhasher\u001b[0m\u001b[1;33m,\u001b[0m \u001b[0mobj\u001b[0m\u001b[1;33m:\u001b[0m \u001b[0mAny\u001b[0m\u001b[1;33m,\u001b[0m \u001b[0mcontext\u001b[0m\u001b[1;33m:\u001b[0m \u001b[0mOptional\u001b[0m\u001b[1;33m[\u001b[0m\u001b[0mContext\u001b[0m\u001b[1;33m]\u001b[0m \u001b[1;33m=\u001b[0m \u001b[1;32mNone\u001b[0m\u001b[1;33m)\u001b[0m \u001b[1;33m->\u001b[0m \u001b[1;32mNone\u001b[0m\u001b[1;33m:\u001b[0m\u001b[1;33m\u001b[0m\u001b[1;33m\u001b[0m\u001b[0m\n\u001b[0;32m    392\u001b[0m         \u001b[1;34m\"\"\"Update the provided hasher with the hash of an object.\"\"\"\u001b[0m\u001b[1;33m\u001b[0m\u001b[1;33m\u001b[0m\u001b[0m\n\u001b[1;32m--> 393\u001b[1;33m         \u001b[0mb\u001b[0m \u001b[1;33m=\u001b[0m \u001b[0mself\u001b[0m\u001b[1;33m.\u001b[0m\u001b[0mto_bytes\u001b[0m\u001b[1;33m(\u001b[0m\u001b[0mobj\u001b[0m\u001b[1;33m,\u001b[0m \u001b[0mcontext\u001b[0m\u001b[1;33m)\u001b[0m\u001b[1;33m\u001b[0m\u001b[1;33m\u001b[0m\u001b[0m\n\u001b[0m\u001b[0;32m    394\u001b[0m         \u001b[0mhasher\u001b[0m\u001b[1;33m.\u001b[0m\u001b[0mupdate\u001b[0m\u001b[1;33m(\u001b[0m\u001b[0mb\u001b[0m\u001b[1;33m)\u001b[0m\u001b[1;33m\u001b[0m\u001b[1;33m\u001b[0m\u001b[0m\n\u001b[0;32m    395\u001b[0m \u001b[1;33m\u001b[0m\u001b[0m\n",
      "\u001b[1;32m~\\anaconda3\\lib\\site-packages\\streamlit\\legacy_caching\\hashing.py\u001b[0m in \u001b[0;36mto_bytes\u001b[1;34m(self, obj, context)\u001b[0m\n\u001b[0;32m    380\u001b[0m \u001b[1;33m\u001b[0m\u001b[0m\n\u001b[0;32m    381\u001b[0m         \u001b[1;32mexcept\u001b[0m \u001b[0mBaseException\u001b[0m \u001b[1;32mas\u001b[0m \u001b[0me\u001b[0m\u001b[1;33m:\u001b[0m\u001b[1;33m\u001b[0m\u001b[1;33m\u001b[0m\u001b[0m\n\u001b[1;32m--> 382\u001b[1;33m             \u001b[1;32mraise\u001b[0m \u001b[0mInternalHashError\u001b[0m\u001b[1;33m(\u001b[0m\u001b[0me\u001b[0m\u001b[1;33m,\u001b[0m \u001b[0mobj\u001b[0m\u001b[1;33m)\u001b[0m\u001b[1;33m\u001b[0m\u001b[1;33m\u001b[0m\u001b[0m\n\u001b[0m\u001b[0;32m    383\u001b[0m \u001b[1;33m\u001b[0m\u001b[0m\n\u001b[0;32m    384\u001b[0m         \u001b[1;32mfinally\u001b[0m\u001b[1;33m:\u001b[0m\u001b[1;33m\u001b[0m\u001b[1;33m\u001b[0m\u001b[0m\n",
      "\u001b[1;32m~\\anaconda3\\lib\\site-packages\\streamlit\\legacy_caching\\hashing.py\u001b[0m in \u001b[0;36mto_bytes\u001b[1;34m(self, obj, context)\u001b[0m\n\u001b[0;32m    366\u001b[0m         \u001b[1;32mtry\u001b[0m\u001b[1;33m:\u001b[0m\u001b[1;33m\u001b[0m\u001b[1;33m\u001b[0m\u001b[0m\n\u001b[0;32m    367\u001b[0m             \u001b[1;31m# Hash the input\u001b[0m\u001b[1;33m\u001b[0m\u001b[1;33m\u001b[0m\u001b[1;33m\u001b[0m\u001b[0m\n\u001b[1;32m--> 368\u001b[1;33m             \u001b[0mb\u001b[0m \u001b[1;33m=\u001b[0m \u001b[1;34mb\"%s:%s\"\u001b[0m \u001b[1;33m%\u001b[0m \u001b[1;33m(\u001b[0m\u001b[0mtname\u001b[0m\u001b[1;33m,\u001b[0m \u001b[0mself\u001b[0m\u001b[1;33m.\u001b[0m\u001b[0m_to_bytes\u001b[0m\u001b[1;33m(\u001b[0m\u001b[0mobj\u001b[0m\u001b[1;33m,\u001b[0m \u001b[0mcontext\u001b[0m\u001b[1;33m)\u001b[0m\u001b[1;33m)\u001b[0m\u001b[1;33m\u001b[0m\u001b[1;33m\u001b[0m\u001b[0m\n\u001b[0m\u001b[0;32m    369\u001b[0m \u001b[1;33m\u001b[0m\u001b[0m\n\u001b[0;32m    370\u001b[0m             \u001b[1;31m# Hmmm... It's possible that the size calculation is wrong. When we\u001b[0m\u001b[1;33m\u001b[0m\u001b[1;33m\u001b[0m\u001b[1;33m\u001b[0m\u001b[0m\n",
      "\u001b[1;32m~\\anaconda3\\lib\\site-packages\\streamlit\\legacy_caching\\hashing.py\u001b[0m in \u001b[0;36m_to_bytes\u001b[1;34m(self, obj, context)\u001b[0m\n\u001b[0;32m    632\u001b[0m             \u001b[0mcode\u001b[0m \u001b[1;33m=\u001b[0m \u001b[0mgetattr\u001b[0m\u001b[1;33m(\u001b[0m\u001b[0mobj\u001b[0m\u001b[1;33m,\u001b[0m \u001b[1;34m\"__code__\"\u001b[0m\u001b[1;33m,\u001b[0m \u001b[1;32mNone\u001b[0m\u001b[1;33m)\u001b[0m\u001b[1;33m\u001b[0m\u001b[1;33m\u001b[0m\u001b[0m\n\u001b[0;32m    633\u001b[0m             \u001b[1;32massert\u001b[0m \u001b[0mcode\u001b[0m \u001b[1;32mis\u001b[0m \u001b[1;32mnot\u001b[0m \u001b[1;32mNone\u001b[0m\u001b[1;33m\u001b[0m\u001b[1;33m\u001b[0m\u001b[0m\n\u001b[1;32m--> 634\u001b[1;33m             \u001b[1;32mif\u001b[0m \u001b[0mself\u001b[0m\u001b[1;33m.\u001b[0m\u001b[0m_file_should_be_hashed\u001b[0m\u001b[1;33m(\u001b[0m\u001b[0mcode\u001b[0m\u001b[1;33m.\u001b[0m\u001b[0mco_filename\u001b[0m\u001b[1;33m)\u001b[0m\u001b[1;33m:\u001b[0m\u001b[1;33m\u001b[0m\u001b[1;33m\u001b[0m\u001b[0m\n\u001b[0m\u001b[0;32m    635\u001b[0m                 \u001b[0mcontext\u001b[0m \u001b[1;33m=\u001b[0m \u001b[0m_get_context\u001b[0m\u001b[1;33m(\u001b[0m\u001b[0mobj\u001b[0m\u001b[1;33m)\u001b[0m\u001b[1;33m\u001b[0m\u001b[1;33m\u001b[0m\u001b[0m\n\u001b[0;32m    636\u001b[0m                 \u001b[0mdefaults\u001b[0m \u001b[1;33m=\u001b[0m \u001b[0mgetattr\u001b[0m\u001b[1;33m(\u001b[0m\u001b[0mobj\u001b[0m\u001b[1;33m,\u001b[0m \u001b[1;34m\"__defaults__\"\u001b[0m\u001b[1;33m,\u001b[0m \u001b[1;32mNone\u001b[0m\u001b[1;33m)\u001b[0m\u001b[1;33m\u001b[0m\u001b[1;33m\u001b[0m\u001b[0m\n",
      "\u001b[1;32m~\\anaconda3\\lib\\site-packages\\streamlit\\legacy_caching\\hashing.py\u001b[0m in \u001b[0;36m_file_should_be_hashed\u001b[1;34m(self, filename)\u001b[0m\n\u001b[0;32m    408\u001b[0m             \u001b[1;32mreturn\u001b[0m \u001b[1;32mFalse\u001b[0m\u001b[1;33m\u001b[0m\u001b[1;33m\u001b[0m\u001b[0m\n\u001b[0;32m    409\u001b[0m         return file_util.file_is_in_folder_glob(\n\u001b[1;32m--> 410\u001b[1;33m             \u001b[0mfilepath\u001b[0m\u001b[1;33m,\u001b[0m \u001b[0mself\u001b[0m\u001b[1;33m.\u001b[0m\u001b[0m_get_main_script_directory\u001b[0m\u001b[1;33m(\u001b[0m\u001b[1;33m)\u001b[0m\u001b[1;33m\u001b[0m\u001b[1;33m\u001b[0m\u001b[0m\n\u001b[0m\u001b[0;32m    411\u001b[0m         ) or file_util.file_in_pythonpath(filepath)\n\u001b[0;32m    412\u001b[0m \u001b[1;33m\u001b[0m\u001b[0m\n",
      "\u001b[1;32m~\\anaconda3\\lib\\site-packages\\streamlit\\legacy_caching\\hashing.py\u001b[0m in \u001b[0;36m_get_main_script_directory\u001b[1;34m()\u001b[0m\n\u001b[0;32m    719\u001b[0m         \u001b[1;31m# This works because we set __main__.__file__ to the report\u001b[0m\u001b[1;33m\u001b[0m\u001b[1;33m\u001b[0m\u001b[1;33m\u001b[0m\u001b[0m\n\u001b[0;32m    720\u001b[0m         \u001b[1;31m# script path in ScriptRunner.\u001b[0m\u001b[1;33m\u001b[0m\u001b[1;33m\u001b[0m\u001b[1;33m\u001b[0m\u001b[0m\n\u001b[1;32m--> 721\u001b[1;33m         \u001b[0mmain_path\u001b[0m \u001b[1;33m=\u001b[0m \u001b[0m__main__\u001b[0m\u001b[1;33m.\u001b[0m\u001b[0m__file__\u001b[0m\u001b[1;33m\u001b[0m\u001b[1;33m\u001b[0m\u001b[0m\n\u001b[0m\u001b[0;32m    722\u001b[0m         \u001b[1;32mreturn\u001b[0m \u001b[0mstr\u001b[0m\u001b[1;33m(\u001b[0m\u001b[0mos\u001b[0m\u001b[1;33m.\u001b[0m\u001b[0mpath\u001b[0m\u001b[1;33m.\u001b[0m\u001b[0mdirname\u001b[0m\u001b[1;33m(\u001b[0m\u001b[0mmain_path\u001b[0m\u001b[1;33m)\u001b[0m\u001b[1;33m)\u001b[0m\u001b[1;33m\u001b[0m\u001b[1;33m\u001b[0m\u001b[0m\n\u001b[0;32m    723\u001b[0m \u001b[1;33m\u001b[0m\u001b[0m\n",
      "\u001b[1;31mInternalHashError\u001b[0m: module '__main__' has no attribute '__file__'\n\nWhile caching the body of `nltk_download()`, Streamlit encountered an\nobject of type `builtins.function`, which it does not know how to hash.\n\n**In this specific case, it's very likely you found a Streamlit bug so please\n[file a bug report here.]\n(https://github.com/streamlit/streamlit/issues/new/choose)**\n\nIn the meantime, you can try bypassing this error by registering a custom\nhash function via the `hash_funcs` keyword in @st.cache(). For example:\n\n```\n@st.cache(hash_funcs={builtins.function: my_hash_func})\ndef my_func(...):\n    ...\n```\n\nIf you don't know where the object of type `builtins.function` is coming\nfrom, try looking at the hash chain below for an object that you do recognize,\nthen pass that to `hash_funcs` instead:\n\n```\nObject of type builtins.function: <function nltk_download at 0x000001D7901BD310>\n```\n\nPlease see the `hash_funcs` [documentation]\n(https://docs.streamlit.io/library/advanced-features/caching#the-hash_funcs-parameter)\nfor more details.\n            "
     ]
    }
   ],
   "source": [
    "import streamlit as st\n",
    "import pandas as pd \n",
    "import joblib\n",
    "import nltk\n",
    "import numpy as np\n",
    "import os \n",
    "\n",
    "def main():\n",
    "    st.markdown(\"\"\"<style>\n",
    "                        .st-eb {\n",
    "                            background-color:#F9786F\n",
    "                        } </style>\"\"\", unsafe_allow_html=True)\n",
    "\n",
    "    # Heading\n",
    "    st.header(\"Positive or Negative\")\n",
    "\n",
    "    # Text area for user input\n",
    "    user_input = st.text_area(\"Enter your text here\")\n",
    "    if st.button(\"Let's Go!\"):\n",
    "        with st.spinner('Processing your text ... '):\n",
    "            prediction = mnb_4G.predict(format_sentence(user_input))\n",
    "            if prediction == 1: \n",
    "                st.markdown('**Positive**')\n",
    "            elif prediction == 0: \n",
    "                st.markdown('**Negative**')\n",
    "\n",
    "        \n",
    "\n",
    "@st.cache(show_spinner=False)\n",
    "def nltk_download(): \n",
    "    return nltk.download('punkt')\n",
    "\n",
    "nltk_download()\n",
    "\n",
    "@st.cache(allow_output_mutation=True, show_spinner=False)\n",
    "def get_model(): \n",
    "    with open('review_model_NVB.pkl', 'rb') as f:\n",
    "        classifier = joblib.load(f)\n",
    "    return classifier\n",
    "\n",
    "classifier = get_model()\n",
    "\n",
    "\n",
    "def format_sentence(label):\n",
    "    return np.array([label])\n",
    "\n",
    "\n",
    "if __name__ == \"__main__\":\n",
    "    main()"
   ]
  }
 ],
 "metadata": {
  "accelerator": "GPU",
  "colab": {
   "collapsed_sections": [],
   "name": "Arabic_Sentiment_analysis_VF.ipynb",
   "provenance": []
  },
  "kernelspec": {
   "display_name": "Python 3",
   "language": "python",
   "name": "python3"
  },
  "language_info": {
   "codemirror_mode": {
    "name": "ipython",
    "version": 3
   },
   "file_extension": ".py",
   "mimetype": "text/x-python",
   "name": "python",
   "nbconvert_exporter": "python",
   "pygments_lexer": "ipython3",
   "version": "3.8.5"
  }
 },
 "nbformat": 4,
 "nbformat_minor": 4
}
